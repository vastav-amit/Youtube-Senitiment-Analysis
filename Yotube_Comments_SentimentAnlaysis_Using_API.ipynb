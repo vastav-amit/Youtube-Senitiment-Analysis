{
  "cells": [
    {
      "cell_type": "code",
      "source": [
        "pip install goolge-api-python-client"
      ],
      "metadata": {
        "colab": {
          "base_uri": "https://localhost:8080/"
        },
        "id": "nCCk9v_UFw2J",
        "outputId": "85f99515-96cc-4344-c236-d5dd482372d9"
      },
      "id": "nCCk9v_UFw2J",
      "execution_count": 1,
      "outputs": [
        {
          "output_type": "stream",
          "name": "stdout",
          "text": [
            "\u001b[31mERROR: Could not find a version that satisfies the requirement goolge-api-python-client (from versions: none)\u001b[0m\u001b[31m\n",
            "\u001b[0m\u001b[31mERROR: No matching distribution found for goolge-api-python-client\u001b[0m\u001b[31m\n",
            "\u001b[0m"
          ]
        }
      ]
    },
    {
      "cell_type": "code",
      "source": [
        "pip install vaderSentiment"
      ],
      "metadata": {
        "colab": {
          "base_uri": "https://localhost:8080/"
        },
        "id": "N5nPWC0yGf5G",
        "outputId": "f958f597-9c14-4349-e7da-b2114c124b00"
      },
      "id": "N5nPWC0yGf5G",
      "execution_count": 6,
      "outputs": [
        {
          "output_type": "stream",
          "name": "stdout",
          "text": [
            "Collecting vaderSentiment\n",
            "  Downloading vaderSentiment-3.3.2-py2.py3-none-any.whl (125 kB)\n",
            "\u001b[2K     \u001b[90m━━━━━━━━━━━━━━━━━━━━━━━━━━━━━━━━━━━━━━━━\u001b[0m \u001b[32m126.0/126.0 kB\u001b[0m \u001b[31m1.3 MB/s\u001b[0m eta \u001b[36m0:00:00\u001b[0m\n",
            "\u001b[?25hRequirement already satisfied: requests in /usr/local/lib/python3.10/dist-packages (from vaderSentiment) (2.31.0)\n",
            "Requirement already satisfied: charset-normalizer<4,>=2 in /usr/local/lib/python3.10/dist-packages (from requests->vaderSentiment) (3.3.2)\n",
            "Requirement already satisfied: idna<4,>=2.5 in /usr/local/lib/python3.10/dist-packages (from requests->vaderSentiment) (3.7)\n",
            "Requirement already satisfied: urllib3<3,>=1.21.1 in /usr/local/lib/python3.10/dist-packages (from requests->vaderSentiment) (2.0.7)\n",
            "Requirement already satisfied: certifi>=2017.4.17 in /usr/local/lib/python3.10/dist-packages (from requests->vaderSentiment) (2024.2.2)\n",
            "Installing collected packages: vaderSentiment\n",
            "Successfully installed vaderSentiment-3.3.2\n"
          ]
        }
      ]
    },
    {
      "cell_type": "code",
      "source": [
        "pip install emoji"
      ],
      "metadata": {
        "colab": {
          "base_uri": "https://localhost:8080/"
        },
        "id": "qFdXYjMRGYGg",
        "outputId": "54e1f816-5683-4f07-b9bb-8583a9d4a4e8"
      },
      "id": "qFdXYjMRGYGg",
      "execution_count": 4,
      "outputs": [
        {
          "output_type": "stream",
          "name": "stdout",
          "text": [
            "Collecting emoji\n",
            "  Downloading emoji-2.11.1-py2.py3-none-any.whl (433 kB)\n",
            "\u001b[2K     \u001b[90m━━━━━━━━━━━━━━━━━━━━━━━━━━━━━━━━━━━━━━━━\u001b[0m \u001b[32m433.8/433.8 kB\u001b[0m \u001b[31m3.4 MB/s\u001b[0m eta \u001b[36m0:00:00\u001b[0m\n",
            "\u001b[?25hInstalling collected packages: emoji\n",
            "Successfully installed emoji-2.11.1\n"
          ]
        }
      ]
    },
    {
      "cell_type": "code",
      "source": [
        "pip install google-api-python-client"
      ],
      "metadata": {
        "colab": {
          "base_uri": "https://localhost:8080/"
        },
        "id": "AO7nEq4RFzQt",
        "outputId": "e8a0888d-fa0a-4139-926b-d76bf6030ef8"
      },
      "id": "AO7nEq4RFzQt",
      "execution_count": 2,
      "outputs": [
        {
          "output_type": "stream",
          "name": "stdout",
          "text": [
            "Requirement already satisfied: google-api-python-client in /usr/local/lib/python3.10/dist-packages (2.84.0)\n",
            "Requirement already satisfied: httplib2<1dev,>=0.15.0 in /usr/local/lib/python3.10/dist-packages (from google-api-python-client) (0.22.0)\n",
            "Requirement already satisfied: google-auth<3.0.0dev,>=1.19.0 in /usr/local/lib/python3.10/dist-packages (from google-api-python-client) (2.27.0)\n",
            "Requirement already satisfied: google-auth-httplib2>=0.1.0 in /usr/local/lib/python3.10/dist-packages (from google-api-python-client) (0.1.1)\n",
            "Requirement already satisfied: google-api-core!=2.0.*,!=2.1.*,!=2.2.*,!=2.3.0,<3.0.0dev,>=1.31.5 in /usr/local/lib/python3.10/dist-packages (from google-api-python-client) (2.11.1)\n",
            "Requirement already satisfied: uritemplate<5,>=3.0.1 in /usr/local/lib/python3.10/dist-packages (from google-api-python-client) (4.1.1)\n",
            "Requirement already satisfied: googleapis-common-protos<2.0.dev0,>=1.56.2 in /usr/local/lib/python3.10/dist-packages (from google-api-core!=2.0.*,!=2.1.*,!=2.2.*,!=2.3.0,<3.0.0dev,>=1.31.5->google-api-python-client) (1.63.0)\n",
            "Requirement already satisfied: protobuf!=3.20.0,!=3.20.1,!=4.21.0,!=4.21.1,!=4.21.2,!=4.21.3,!=4.21.4,!=4.21.5,<5.0.0.dev0,>=3.19.5 in /usr/local/lib/python3.10/dist-packages (from google-api-core!=2.0.*,!=2.1.*,!=2.2.*,!=2.3.0,<3.0.0dev,>=1.31.5->google-api-python-client) (3.20.3)\n",
            "Requirement already satisfied: requests<3.0.0.dev0,>=2.18.0 in /usr/local/lib/python3.10/dist-packages (from google-api-core!=2.0.*,!=2.1.*,!=2.2.*,!=2.3.0,<3.0.0dev,>=1.31.5->google-api-python-client) (2.31.0)\n",
            "Requirement already satisfied: cachetools<6.0,>=2.0.0 in /usr/local/lib/python3.10/dist-packages (from google-auth<3.0.0dev,>=1.19.0->google-api-python-client) (5.3.3)\n",
            "Requirement already satisfied: pyasn1-modules>=0.2.1 in /usr/local/lib/python3.10/dist-packages (from google-auth<3.0.0dev,>=1.19.0->google-api-python-client) (0.4.0)\n",
            "Requirement already satisfied: rsa<5,>=3.1.4 in /usr/local/lib/python3.10/dist-packages (from google-auth<3.0.0dev,>=1.19.0->google-api-python-client) (4.9)\n",
            "Requirement already satisfied: pyparsing!=3.0.0,!=3.0.1,!=3.0.2,!=3.0.3,<4,>=2.4.2 in /usr/local/lib/python3.10/dist-packages (from httplib2<1dev,>=0.15.0->google-api-python-client) (3.1.2)\n",
            "Requirement already satisfied: pyasn1<0.7.0,>=0.4.6 in /usr/local/lib/python3.10/dist-packages (from pyasn1-modules>=0.2.1->google-auth<3.0.0dev,>=1.19.0->google-api-python-client) (0.6.0)\n",
            "Requirement already satisfied: charset-normalizer<4,>=2 in /usr/local/lib/python3.10/dist-packages (from requests<3.0.0.dev0,>=2.18.0->google-api-core!=2.0.*,!=2.1.*,!=2.2.*,!=2.3.0,<3.0.0dev,>=1.31.5->google-api-python-client) (3.3.2)\n",
            "Requirement already satisfied: idna<4,>=2.5 in /usr/local/lib/python3.10/dist-packages (from requests<3.0.0.dev0,>=2.18.0->google-api-core!=2.0.*,!=2.1.*,!=2.2.*,!=2.3.0,<3.0.0dev,>=1.31.5->google-api-python-client) (3.7)\n",
            "Requirement already satisfied: urllib3<3,>=1.21.1 in /usr/local/lib/python3.10/dist-packages (from requests<3.0.0.dev0,>=2.18.0->google-api-core!=2.0.*,!=2.1.*,!=2.2.*,!=2.3.0,<3.0.0dev,>=1.31.5->google-api-python-client) (2.0.7)\n",
            "Requirement already satisfied: certifi>=2017.4.17 in /usr/local/lib/python3.10/dist-packages (from requests<3.0.0.dev0,>=2.18.0->google-api-core!=2.0.*,!=2.1.*,!=2.2.*,!=2.3.0,<3.0.0dev,>=1.31.5->google-api-python-client) (2024.2.2)\n"
          ]
        }
      ]
    },
    {
      "cell_type": "code",
      "execution_count": 7,
      "id": "0e638bb3",
      "metadata": {
        "id": "0e638bb3"
      },
      "outputs": [],
      "source": [
        "import pandas as pd\n",
        "import numpy as np\n",
        "import seaborn as sns\n",
        "import matplotlib.pyplot as plt\n",
        "import warnings\n",
        "warnings.filterwarnings(\"ignore\")\n",
        "# For Fetching Comments\n",
        "from googleapiclient.discovery import build\n",
        "# For filtering comments\n",
        "import re\n",
        "# For filtering comments with just emojis\n",
        "import emoji\n",
        "# Analyze the sentiments of the comment\n",
        "from vaderSentiment.vaderSentiment import SentimentIntensityAnalyzer\n",
        "# For visualization\n",
        "import matplotlib.pyplot as plt"
      ]
    },
    {
      "cell_type": "markdown",
      "source": [
        "**Step 3: Fetching Comments**"
      ],
      "metadata": {
        "id": "zmmMFQshGzuC"
      },
      "id": "zmmMFQshGzuC"
    },
    {
      "cell_type": "code",
      "source": [
        "API_KEY = 'AIzaSyDAtaGC##############'# Put in your API Key\n",
        "\n",
        "youtube = build('youtube', 'v3', developerKey=API_KEY) # initializing Youtube API\n",
        "\n",
        "# Taking input from the user and slicing for video id\n",
        "video_id = input('Enter Youtube Video URL: ')[-11:]\n",
        "print(\"video id: \" + video_id)\n",
        "\n",
        "# Getting the channelId of the video uploader\n",
        "video_response = youtube.videos().list(\n",
        "    part='snippet',\n",
        "    id=video_id\n",
        ").execute()\n",
        "\n",
        "# Splitting the response for channelID\n",
        "video_snippet = video_response['items'][0]['snippet']\n",
        "uploader_channel_id = video_snippet['channelId']\n",
        "print(\"channel id: \" + uploader_channel_id)"
      ],
      "metadata": {
        "colab": {
          "base_uri": "https://localhost:8080/"
        },
        "id": "zLS0AMJWG7my",
        "outputId": "a38ba910-c3c3-46e0-c86f-fde2e7ad17c1"
      },
      "id": "zLS0AMJWG7my",
      "execution_count": 11,
      "outputs": [
        {
          "output_type": "stream",
          "name": "stdout",
          "text": [
            "Enter Youtube Video URL: https://www.youtube.com/watch?v=avz06PDqDbM\n",
            "video id: avz06PDqDbM\n",
            "channel id: UCF9imwPMSGz4Vq1NiTWCC7g\n"
          ]
        }
      ]
    },
    {
      "cell_type": "code",
      "source": [
        "# Fetch comments\n",
        "print(\"Fetching Comments...\")\n",
        "comments = []\n",
        "nextPageToken = None\n",
        "while len(comments) < 600:\n",
        "    request = youtube.commentThreads().list(\n",
        "        part='snippet',\n",
        "        videoId=video_id,\n",
        "        maxResults=100,  # You can fetch up to 100 comments per request\n",
        "        pageToken=nextPageToken\n",
        "    )\n",
        "    response = request.execute()\n",
        "    for item in response['items']:\n",
        "        comment = item['snippet']['topLevelComment']['snippet']\n",
        "        # Check if the comment is not from the video uploader\n",
        "        if comment['authorChannelId']['value'] != uploader_channel_id:\n",
        "            comments.append(comment['textDisplay'])\n",
        "    nextPageToken = response.get('nextPageToken')\n",
        "\n",
        "    if not nextPageToken:\n",
        "        break\n",
        "# Print the 5 comments\n",
        "comments[:5]"
      ],
      "metadata": {
        "colab": {
          "base_uri": "https://localhost:8080/"
        },
        "id": "xFNxap9rHlSR",
        "outputId": "ca3cd463-28f6-4f24-85de-86c6360fd12a"
      },
      "id": "xFNxap9rHlSR",
      "execution_count": 12,
      "outputs": [
        {
          "output_type": "stream",
          "name": "stdout",
          "text": [
            "Fetching Comments...\n"
          ]
        },
        {
          "output_type": "execute_result",
          "data": {
            "text/plain": [
              "['This one was actually diarrhea crap',\n",
              " 'It&#39;s time 2 pick up a side 7.14.23 in IMAX &amp; dolby cinema also in large format',\n",
              " 'Estuvo chida',\n",
              " '&quot;Truth is vanishing, war is coming &quot;<br>Yeah.... welcome to 2024',\n",
              " 'this time they have made it enormously massively larger than life']"
            ]
          },
          "metadata": {},
          "execution_count": 12
        }
      ]
    },
    {
      "cell_type": "markdown",
      "source": [
        "**Step 4: Filtering Comments**"
      ],
      "metadata": {
        "id": "kRgozhJeHuA2"
      },
      "id": "kRgozhJeHuA2"
    },
    {
      "cell_type": "code",
      "source": [
        "hyperlink_pattern = re.compile(\n",
        "    r'http[s]?://(?:[a-zA-Z]|[0-9]|[$-_@.&+]|[!*\\\\(\\\\),]|(?:%[0-9a-fA-F][0-9a-fA-F]))+')\n",
        "\n",
        "threshold_ratio = 0.65\n",
        "\n",
        "relevant_comments = []\n",
        "\n",
        "# Inside your loop that processes comments\n",
        "for comment_text in comments:\n",
        "\n",
        "    comment_text = comment_text.lower().strip()\n",
        "\n",
        "    emojis = emoji.emoji_count(comment_text)\n",
        "\n",
        "    # Count text characters (excluding spaces)\n",
        "    text_characters = len(re.sub(r'\\s', '', comment_text))\n",
        "\n",
        "    if (any(char.isalnum() for char in comment_text)) and not hyperlink_pattern.search(comment_text):\n",
        "        if emojis == 0 or (text_characters / (text_characters + emojis)) > threshold_ratio:\n",
        "            relevant_comments.append(comment_text)\n",
        "\n",
        "# Print the relevant comments\n",
        "relevant_comments[:5]"
      ],
      "metadata": {
        "colab": {
          "base_uri": "https://localhost:8080/"
        },
        "id": "1m_XJOssHwe-",
        "outputId": "1e7e90cb-4562-4995-db20-538d4c66cd57"
      },
      "id": "1m_XJOssHwe-",
      "execution_count": 13,
      "outputs": [
        {
          "output_type": "execute_result",
          "data": {
            "text/plain": [
              "['this one was actually diarrhea crap',\n",
              " 'it&#39;s time 2 pick up a side 7.14.23 in imax &amp; dolby cinema also in large format',\n",
              " 'estuvo chida',\n",
              " '&quot;truth is vanishing, war is coming &quot;<br>yeah.... welcome to 2024',\n",
              " 'this time they have made it enormously massively larger than life']"
            ]
          },
          "metadata": {},
          "execution_count": 13
        }
      ]
    },
    {
      "cell_type": "markdown",
      "source": [
        "**Step 5: Storing comments in a text file for further access**"
      ],
      "metadata": {
        "id": "-T5OAMMWH3ac"
      },
      "id": "-T5OAMMWH3ac"
    },
    {
      "cell_type": "code",
      "source": [
        "f = open(\"ytcomments.txt\", 'w', encoding='utf-8')\n",
        "for idx, comment in enumerate(relevant_comments):\n",
        "    f.write(str(comment)+\"\\n\")\n",
        "f.close()\n",
        "print(\"Comments stored successfully!\")"
      ],
      "metadata": {
        "colab": {
          "base_uri": "https://localhost:8080/"
        },
        "id": "fLj4N9AFH0r9",
        "outputId": "d86d3102-9fc5-486e-98a8-69895f4ba048"
      },
      "id": "fLj4N9AFH0r9",
      "execution_count": 14,
      "outputs": [
        {
          "output_type": "stream",
          "name": "stdout",
          "text": [
            "Comments stored successfully!\n"
          ]
        }
      ]
    },
    {
      "cell_type": "markdown",
      "source": [
        "**Step 6: Analyzing Comments**"
      ],
      "metadata": {
        "id": "2A0Ao64XH9VB"
      },
      "id": "2A0Ao64XH9VB"
    },
    {
      "cell_type": "code",
      "source": [
        "def sentiment_scores(comment, polarity):\n",
        "\n",
        "    # Creating a SentimentIntensityAnalyzer object.\n",
        "    sentiment_object = SentimentIntensityAnalyzer()\n",
        "\n",
        "    sentiment_dict = sentiment_object.polarity_scores(comment)\n",
        "    polarity.append(sentiment_dict['compound'])\n",
        "\n",
        "    return polarity\n",
        "\n",
        "\n",
        "polarity = []\n",
        "positive_comments = []\n",
        "negative_comments = []\n",
        "neutral_comments = []\n",
        "\n",
        "f = open(\"ytcomments.txt\", 'r', encoding='`utf-8')\n",
        "comments = f.readlines()\n",
        "f.close()\n",
        "print(\"Analysing Comments...\")\n",
        "for index, items in enumerate(comments):\n",
        "    polarity = sentiment_scores(items, polarity)\n",
        "\n",
        "    if polarity[-1] > 0.05:\n",
        "        positive_comments.append(items)\n",
        "    elif polarity[-1] < -0.05:\n",
        "        negative_comments.append(items)\n",
        "    else:\n",
        "        neutral_comments.append(items)\n",
        "\n",
        "# Print polarity\n",
        "polarity[:5]"
      ],
      "metadata": {
        "colab": {
          "base_uri": "https://localhost:8080/"
        },
        "id": "zOGrNNvbH0nR",
        "outputId": "9452909e-c537-4b8f-bfe2-01b95a637225"
      },
      "id": "zOGrNNvbH0nR",
      "execution_count": 15,
      "outputs": [
        {
          "output_type": "stream",
          "name": "stdout",
          "text": [
            "Analysing Comments...\n"
          ]
        },
        {
          "output_type": "execute_result",
          "data": {
            "text/plain": [
              "[-0.3818, 0.0, 0.0, -0.2263, 0.0]"
            ]
          },
          "metadata": {},
          "execution_count": 15
        }
      ]
    },
    {
      "cell_type": "markdown",
      "source": [
        "**Step 7: Overall Polarity**"
      ],
      "metadata": {
        "id": "MH_DbVICIEqa"
      },
      "id": "MH_DbVICIEqa"
    },
    {
      "cell_type": "code",
      "source": [
        "avg_polarity = sum(polarity)/len(polarity)\n",
        "print(\"Average Polarity:\", avg_polarity)\n",
        "if avg_polarity > 0.05:\n",
        "    print(\"The Video has got a Positive response\")\n",
        "elif avg_polarity < -0.05:\n",
        "    print(\"The Video has got a Negative response\")\n",
        "else:\n",
        "    print(\"The Video has got a Neutral response\")\n",
        "\n",
        "print(\"The comment with most positive sentiment:\", comments[polarity.index(max(\n",
        "    polarity))], \"with score\", max(polarity), \"and length\", len(comments[polarity.index(max(polarity))]))\n",
        "print(\"The comment with most negative sentiment:\", comments[polarity.index(min(\n",
        "    polarity))], \"with score\", min(polarity), \"and length\", len(comments[polarity.index(min(polarity))]))"
      ],
      "metadata": {
        "colab": {
          "base_uri": "https://localhost:8080/"
        },
        "id": "FqL5Vt9YH0jS",
        "outputId": "23669326-6183-4879-891e-530a7fa122da"
      },
      "id": "FqL5Vt9YH0jS",
      "execution_count": 16,
      "outputs": [
        {
          "output_type": "stream",
          "name": "stdout",
          "text": [
            "Average Polarity: 0.23351614420062708\n",
            "The Video has got a Positive response\n",
            "The comment with most positive sentiment: gerilim aksiyon savaş aşk heyecan dolu bir film izlemek için sabırsızlanıyorum sizlerde izlemeniz için tavsiye ederim ❤❤🎉❤🎉❤🎉❤\n",
            " with score 0.9836 and length 127\n",
            "The comment with most negative sentiment: &quot;mission: impossible - dead reckoning&quot; could be considered as part of an action and espionage film series. the film may revolve around the adventures of the character ethan hunt, portrayed by tom cruise, in dangerous missions. as with other films in the series, high-paced action scenes, mysterious intrigues, and international espionage themes are expected.\n",
            " with score -0.6249 and length 369\n"
          ]
        }
      ]
    },
    {
      "cell_type": "markdown",
      "source": [
        "***Plotting graphs***"
      ],
      "metadata": {
        "id": "MvQlTRhfIPkZ"
      },
      "id": "MvQlTRhfIPkZ"
    },
    {
      "cell_type": "code",
      "source": [
        "positive_count = len(positive_comments)\n",
        "negative_count = len(negative_comments)\n",
        "neutral_count = len(neutral_comments)\n",
        "\n",
        "# labels and data for Bar chart\n",
        "labels = ['Positive', 'Negative', 'Neutral']\n",
        "comment_counts = [positive_count, negative_count, neutral_count]\n",
        "\n",
        "# Creating bar chart\n",
        "plt.bar(labels, comment_counts, color=['blue', 'red', 'grey'])\n",
        "\n",
        "# Adding labels and title to the plot\n",
        "plt.xlabel('Sentiment')\n",
        "plt.ylabel('Comment Count')\n",
        "plt.title('Sentiment Analysis of Comments')\n",
        "\n",
        "# Displaying the chart\n",
        "plt.show()"
      ],
      "metadata": {
        "colab": {
          "base_uri": "https://localhost:8080/",
          "height": 472
        },
        "id": "bBeSiSmEH0ei",
        "outputId": "24d69967-324b-47b5-9aa7-b1c4e29c9e0a"
      },
      "id": "bBeSiSmEH0ei",
      "execution_count": 17,
      "outputs": [
        {
          "output_type": "display_data",
          "data": {
            "text/plain": [
              "<Figure size 640x480 with 1 Axes>"
            ],
            "image/png": "[encoded data removed]"
          },
          "metadata": {}
        }
      ]
    },
    {
      "cell_type": "code",
      "source": [
        "# labels and data for Bar chart\n",
        "labels = ['Positive', 'Negative', 'Neutral']\n",
        "comment_counts = [positive_count, negative_count, neutral_count]\n",
        "\n",
        "plt.figure(figsize=(10, 6)) # setting size\n",
        "\n",
        "# plotting pie chart\n",
        "plt.pie(comment_counts, labels=labels)\n",
        "\n",
        "# Displaying Pie Chart\n",
        "plt.show()"
      ],
      "metadata": {
        "colab": {
          "base_uri": "https://localhost:8080/",
          "height": 499
        },
        "id": "HuCAtXUuH0Sj",
        "outputId": "63780df2-8792-45e1-a41e-f667aa924711"
      },
      "id": "HuCAtXUuH0Sj",
      "execution_count": 18,
      "outputs": [
        {
          "output_type": "display_data",
          "data": {
            "text/plain": [
              "<Figure size 1000x600 with 1 Axes>"
            ],
            "image/png": "[encoded data removed]"
          },
          "metadata": {}
        }
      ]
    },
    {
      "cell_type": "code",
      "execution_count": 18,
      "id": "66275d88",
      "metadata": {
        "id": "66275d88"
      },
      "outputs": [],
      "source": []
    },
    {
      "cell_type": "code",
      "execution_count": 25,
      "id": "f5782e3d",
      "metadata": {
        "id": "f5782e3d"
      },
      "outputs": [],
      "source": [
        "# Import TextBlob module for seminet analysis\n",
        "from textblob import TextBlob"
      ]
    },
    {
      "cell_type": "code",
      "source": [
        "comments[0:5]"
      ],
      "metadata": {
        "colab": {
          "base_uri": "https://localhost:8080/"
        },
        "id": "mduiEUbVJat7",
        "outputId": "2d12df39-40a4-4455-abb0-df2c0d41190b"
      },
      "id": "mduiEUbVJat7",
      "execution_count": 30,
      "outputs": [
        {
          "output_type": "execute_result",
          "data": {
            "text/plain": [
              "['this one was actually diarrhea crap\\n',\n",
              " 'it&#39;s time 2 pick up a side 7.14.23 in imax &amp; dolby cinema also in large format\\n',\n",
              " 'estuvo chida\\n',\n",
              " '&quot;truth is vanishing, war is coming &quot;<br>yeah.... welcome to 2024\\n',\n",
              " 'this time they have made it enormously massively larger than life\\n']"
            ]
          },
          "metadata": {},
          "execution_count": 30
        }
      ]
    },
    {
      "cell_type": "code",
      "execution_count": 31,
      "id": "2072f8ba",
      "metadata": {
        "colab": {
          "base_uri": "https://localhost:8080/"
        },
        "id": "2072f8ba",
        "outputId": "7f3e00d0-efa4-46cd-bdac-e5db5dea5b74"
      },
      "outputs": [
        {
          "output_type": "execute_result",
          "data": {
            "text/plain": [
              "-0.4"
            ]
          },
          "metadata": {},
          "execution_count": 31
        }
      ],
      "source": [
        "# finding sentiment polariy for the text\n",
        "TextBlob('this one was actually diarrhea crap\\n').sentiment.polarity"
      ]
    },
    {
      "cell_type": "code",
      "execution_count": 34,
      "id": "5035df69",
      "metadata": {
        "id": "5035df69"
      },
      "outputs": [],
      "source": [
        "# Creating empy list to store polarity values for all the comments\n",
        "polarity = []\n",
        "# iterating over comment text to find polatiy for all the comments, if any blank comment it there then in except it will take polariy as 0\n",
        "for comment in comments:\n",
        "    try:\n",
        "        polarity.append(TextBlob(comment).sentiment.polarity)\n",
        "    except:\n",
        "        polarity.append(0)"
      ]
    },
    {
      "cell_type": "code",
      "source": [
        "#creating data frame for storing the comments and polarity related to it\n",
        "comments = pd.DataFrame(comments,polarity)"
      ],
      "metadata": {
        "id": "boWK_kK1JxNv"
      },
      "id": "boWK_kK1JxNv",
      "execution_count": 49,
      "outputs": []
    },
    {
      "cell_type": "code",
      "source": [
        "comments.rename(columns={\"Comments\": \"Comments_text\"},inplace=True)"
      ],
      "metadata": {
        "id": "F27u8A8PKlIa"
      },
      "id": "F27u8A8PKlIa",
      "execution_count": 81,
      "outputs": []
    },
    {
      "cell_type": "code",
      "source": [
        "comments.head()"
      ],
      "metadata": {
        "colab": {
          "base_uri": "https://localhost:8080/",
          "height": 206
        },
        "id": "wjZV2aSqKJIl",
        "outputId": "9ffdf5be-bfaa-416d-ce2f-82dac2567425"
      },
      "id": "wjZV2aSqKJIl",
      "execution_count": 82,
      "outputs": [
        {
          "output_type": "execute_result",
          "data": {
            "text/plain": [
              "                                               Comments_text  polarity\n",
              "-0.400000              this one was actually diarrhea crap\\n -0.400000\n",
              " 0.214286  it&#39;s time 2 pick up a side 7.14.23 in imax...  0.214286\n",
              " 0.000000                                     estuvo chida\\n  0.000000\n",
              " 0.800000  &quot;truth is vanishing, war is coming &quot;...  0.800000\n",
              " 0.000000  this time they have made it enormously massive...  0.000000"
            ],
            "text/html": [
              "\n",
              "  <div id=\"df-944ff47b-0cfc-40f8-81ac-eb7fc1cf8202\" class=\"colab-df-container\">\n",
              "    <div>\n",
              "<style scoped>\n",
              "    .dataframe tbody tr th:only-of-type {\n",
              "        vertical-align: middle;\n",
              "    }\n",
              "\n",
              "    .dataframe tbody tr th {\n",
              "        vertical-align: top;\n",
              "    }\n",
              "\n",
              "    .dataframe thead th {\n",
              "        text-align: right;\n",
              "    }\n",
              "</style>\n",
              "<table border=\"1\" class=\"dataframe\">\n",
              "  <thead>\n",
              "    <tr style=\"text-align: right;\">\n",
              "      <th></th>\n",
              "      <th>Comments_text</th>\n",
              "      <th>polarity</th>\n",
              "    </tr>\n",
              "  </thead>\n",
              "  <tbody>\n",
              "    <tr>\n",
              "      <th>-0.400000</th>\n",
              "      <td>this one was actually diarrhea crap\\n</td>\n",
              "      <td>-0.400000</td>\n",
              "    </tr>\n",
              "    <tr>\n",
              "      <th>0.214286</th>\n",
              "      <td>it&amp;#39;s time 2 pick up a side 7.14.23 in imax...</td>\n",
              "      <td>0.214286</td>\n",
              "    </tr>\n",
              "    <tr>\n",
              "      <th>0.000000</th>\n",
              "      <td>estuvo chida\\n</td>\n",
              "      <td>0.000000</td>\n",
              "    </tr>\n",
              "    <tr>\n",
              "      <th>0.800000</th>\n",
              "      <td>&amp;quot;truth is vanishing, war is coming &amp;quot;...</td>\n",
              "      <td>0.800000</td>\n",
              "    </tr>\n",
              "    <tr>\n",
              "      <th>0.000000</th>\n",
              "      <td>this time they have made it enormously massive...</td>\n",
              "      <td>0.000000</td>\n",
              "    </tr>\n",
              "  </tbody>\n",
              "</table>\n",
              "</div>\n",
              "    <div class=\"colab-df-buttons\">\n",
              "\n",
              "  <div class=\"colab-df-container\">\n",
              "    <button class=\"colab-df-convert\" onclick=\"convertToInteractive('df-944ff47b-0cfc-40f8-81ac-eb7fc1cf8202')\"\n",
              "            title=\"Convert this dataframe to an interactive table.\"\n",
              "            style=\"display:none;\">\n",
              "\n",
              "  <svg xmlns=\"http://www.w3.org/2000/svg\" height=\"24px\" viewBox=\"0 -960 960 960\">\n",
              "    <path d=\"M120-120v-720h720v720H120Zm60-500h600v-160H180v160Zm220 220h160v-160H400v160Zm0 220h160v-160H400v160ZM180-400h160v-160H180v160Zm440 0h160v-160H620v160ZM180-180h160v-160H180v160Zm440 0h160v-160H620v160Z\"/>\n",
              "  </svg>\n",
              "    </button>\n",
              "\n",
              "  <style>\n",
              "    .colab-df-container {\n",
              "      display:flex;\n",
              "      gap: 12px;\n",
              "    }\n",
              "\n",
              "    .colab-df-convert {\n",
              "      background-color: #E8F0FE;\n",
              "      border: none;\n",
              "      border-radius: 50%;\n",
              "      cursor: pointer;\n",
              "      display: none;\n",
              "      fill: #1967D2;\n",
              "      height: 32px;\n",
              "      padding: 0 0 0 0;\n",
              "      width: 32px;\n",
              "    }\n",
              "\n",
              "    .colab-df-convert:hover {\n",
              "      background-color: #E2EBFA;\n",
              "      box-shadow: 0px 1px 2px rgba(60, 64, 67, 0.3), 0px 1px 3px 1px rgba(60, 64, 67, 0.15);\n",
              "      fill: #174EA6;\n",
              "    }\n",
              "\n",
              "    .colab-df-buttons div {\n",
              "      margin-bottom: 4px;\n",
              "    }\n",
              "\n",
              "    [theme=dark] .colab-df-convert {\n",
              "      background-color: #3B4455;\n",
              "      fill: #D2E3FC;\n",
              "    }\n",
              "\n",
              "    [theme=dark] .colab-df-convert:hover {\n",
              "      background-color: #434B5C;\n",
              "      box-shadow: 0px 1px 3px 1px rgba(0, 0, 0, 0.15);\n",
              "      filter: drop-shadow(0px 1px 2px rgba(0, 0, 0, 0.3));\n",
              "      fill: #FFFFFF;\n",
              "    }\n",
              "  </style>\n",
              "\n",
              "    <script>\n",
              "      const buttonEl =\n",
              "        document.querySelector('#df-944ff47b-0cfc-40f8-81ac-eb7fc1cf8202 button.colab-df-convert');\n",
              "      buttonEl.style.display =\n",
              "        google.colab.kernel.accessAllowed ? 'block' : 'none';\n",
              "\n",
              "      async function convertToInteractive(key) {\n",
              "        const element = document.querySelector('#df-944ff47b-0cfc-40f8-81ac-eb7fc1cf8202');\n",
              "        const dataTable =\n",
              "          await google.colab.kernel.invokeFunction('convertToInteractive',\n",
              "                                                    [key], {});\n",
              "        if (!dataTable) return;\n",
              "\n",
              "        const docLinkHtml = 'Like what you see? Visit the ' +\n",
              "          '<a target=\"_blank\" href=https://colab.research.google.com/notebooks/data_table.ipynb>data table notebook</a>'\n",
              "          + ' to learn more about interactive tables.';\n",
              "        element.innerHTML = '';\n",
              "        dataTable['output_type'] = 'display_data';\n",
              "        await google.colab.output.renderOutput(dataTable, element);\n",
              "        const docLink = document.createElement('div');\n",
              "        docLink.innerHTML = docLinkHtml;\n",
              "        element.appendChild(docLink);\n",
              "      }\n",
              "    </script>\n",
              "  </div>\n",
              "\n",
              "\n",
              "<div id=\"df-42912753-013d-47c5-9224-594ae3cdf4e4\">\n",
              "  <button class=\"colab-df-quickchart\" onclick=\"quickchart('df-42912753-013d-47c5-9224-594ae3cdf4e4')\"\n",
              "            title=\"Suggest charts\"\n",
              "            style=\"display:none;\">\n",
              "\n",
              "<svg xmlns=\"http://www.w3.org/2000/svg\" height=\"24px\"viewBox=\"0 0 24 24\"\n",
              "     width=\"24px\">\n",
              "    <g>\n",
              "        <path d=\"M19 3H5c-1.1 0-2 .9-2 2v14c0 1.1.9 2 2 2h14c1.1 0 2-.9 2-2V5c0-1.1-.9-2-2-2zM9 17H7v-7h2v7zm4 0h-2V7h2v10zm4 0h-2v-4h2v4z\"/>\n",
              "    </g>\n",
              "</svg>\n",
              "  </button>\n",
              "\n",
              "<style>\n",
              "  .colab-df-quickchart {\n",
              "      --bg-color: #E8F0FE;\n",
              "      --fill-color: #1967D2;\n",
              "      --hover-bg-color: #E2EBFA;\n",
              "      --hover-fill-color: #174EA6;\n",
              "      --disabled-fill-color: #AAA;\n",
              "      --disabled-bg-color: #DDD;\n",
              "  }\n",
              "\n",
              "  [theme=dark] .colab-df-quickchart {\n",
              "      --bg-color: #3B4455;\n",
              "      --fill-color: #D2E3FC;\n",
              "      --hover-bg-color: #434B5C;\n",
              "      --hover-fill-color: #FFFFFF;\n",
              "      --disabled-bg-color: #3B4455;\n",
              "      --disabled-fill-color: #666;\n",
              "  }\n",
              "\n",
              "  .colab-df-quickchart {\n",
              "    background-color: var(--bg-color);\n",
              "    border: none;\n",
              "    border-radius: 50%;\n",
              "    cursor: pointer;\n",
              "    display: none;\n",
              "    fill: var(--fill-color);\n",
              "    height: 32px;\n",
              "    padding: 0;\n",
              "    width: 32px;\n",
              "  }\n",
              "\n",
              "  .colab-df-quickchart:hover {\n",
              "    background-color: var(--hover-bg-color);\n",
              "    box-shadow: 0 1px 2px rgba(60, 64, 67, 0.3), 0 1px 3px 1px rgba(60, 64, 67, 0.15);\n",
              "    fill: var(--button-hover-fill-color);\n",
              "  }\n",
              "\n",
              "  .colab-df-quickchart-complete:disabled,\n",
              "  .colab-df-quickchart-complete:disabled:hover {\n",
              "    background-color: var(--disabled-bg-color);\n",
              "    fill: var(--disabled-fill-color);\n",
              "    box-shadow: none;\n",
              "  }\n",
              "\n",
              "  .colab-df-spinner {\n",
              "    border: 2px solid var(--fill-color);\n",
              "    border-color: transparent;\n",
              "    border-bottom-color: var(--fill-color);\n",
              "    animation:\n",
              "      spin 1s steps(1) infinite;\n",
              "  }\n",
              "\n",
              "  @keyframes spin {\n",
              "    0% {\n",
              "      border-color: transparent;\n",
              "      border-bottom-color: var(--fill-color);\n",
              "      border-left-color: var(--fill-color);\n",
              "    }\n",
              "    20% {\n",
              "      border-color: transparent;\n",
              "      border-left-color: var(--fill-color);\n",
              "      border-top-color: var(--fill-color);\n",
              "    }\n",
              "    30% {\n",
              "      border-color: transparent;\n",
              "      border-left-color: var(--fill-color);\n",
              "      border-top-color: var(--fill-color);\n",
              "      border-right-color: var(--fill-color);\n",
              "    }\n",
              "    40% {\n",
              "      border-color: transparent;\n",
              "      border-right-color: var(--fill-color);\n",
              "      border-top-color: var(--fill-color);\n",
              "    }\n",
              "    60% {\n",
              "      border-color: transparent;\n",
              "      border-right-color: var(--fill-color);\n",
              "    }\n",
              "    80% {\n",
              "      border-color: transparent;\n",
              "      border-right-color: var(--fill-color);\n",
              "      border-bottom-color: var(--fill-color);\n",
              "    }\n",
              "    90% {\n",
              "      border-color: transparent;\n",
              "      border-bottom-color: var(--fill-color);\n",
              "    }\n",
              "  }\n",
              "</style>\n",
              "\n",
              "  <script>\n",
              "    async function quickchart(key) {\n",
              "      const quickchartButtonEl =\n",
              "        document.querySelector('#' + key + ' button');\n",
              "      quickchartButtonEl.disabled = true;  // To prevent multiple clicks.\n",
              "      quickchartButtonEl.classList.add('colab-df-spinner');\n",
              "      try {\n",
              "        const charts = await google.colab.kernel.invokeFunction(\n",
              "            'suggestCharts', [key], {});\n",
              "      } catch (error) {\n",
              "        console.error('Error during call to suggestCharts:', error);\n",
              "      }\n",
              "      quickchartButtonEl.classList.remove('colab-df-spinner');\n",
              "      quickchartButtonEl.classList.add('colab-df-quickchart-complete');\n",
              "    }\n",
              "    (() => {\n",
              "      let quickchartButtonEl =\n",
              "        document.querySelector('#df-42912753-013d-47c5-9224-594ae3cdf4e4 button');\n",
              "      quickchartButtonEl.style.display =\n",
              "        google.colab.kernel.accessAllowed ? 'block' : 'none';\n",
              "    })();\n",
              "  </script>\n",
              "</div>\n",
              "\n",
              "    </div>\n",
              "  </div>\n"
            ],
            "application/vnd.google.colaboratory.intrinsic+json": {
              "type": "dataframe",
              "variable_name": "comments",
              "summary": "{\n  \"name\": \"comments\",\n  \"rows\": 638,\n  \"fields\": [\n    {\n      \"column\": \"Comments_text\",\n      \"properties\": {\n        \"dtype\": \"string\",\n        \"num_unique_values\": 572,\n        \"samples\": [\n          \"ela filim\\n\",\n          \"great film\\n\",\n          \"super film, super treller\\n\"\n        ],\n        \"semantic_type\": \"\",\n        \"description\": \"\"\n      }\n    },\n    {\n      \"column\": \"polarity\",\n      \"properties\": {\n        \"dtype\": \"number\",\n        \"std\": 0.2265031669905461,\n        \"min\": -0.6666666666666666,\n        \"max\": 1.0,\n        \"num_unique_values\": 50,\n        \"samples\": [\n          0.3119318181818182,\n          -0.000833333333333334,\n          0.16285714285714287\n        ],\n        \"semantic_type\": \"\",\n        \"description\": \"\"\n      }\n    }\n  ]\n}"
            }
          },
          "metadata": {},
          "execution_count": 82
        }
      ]
    },
    {
      "cell_type": "markdown",
      "id": "9b0c23b9",
      "metadata": {
        "id": "9b0c23b9"
      },
      "source": [
        "# Lets find count of positive, negative and neutral"
      ]
    },
    {
      "cell_type": "code",
      "execution_count": 83,
      "id": "dfabb32c",
      "metadata": {
        "colab": {
          "base_uri": "https://localhost:8080/"
        },
        "id": "dfabb32c",
        "outputId": "dae5b8ea-0a93-44de-d918-1ae4a1c88581"
      },
      "outputs": [
        {
          "output_type": "execute_result",
          "data": {
            "text/plain": [
              "155"
            ]
          },
          "metadata": {},
          "execution_count": 83
        }
      ],
      "source": [
        "# storing polarity greater than 0 into PositiveSentiment\n",
        "PositiveSentiment = comments[comments['polarity'] > 0]\n",
        "len(PositiveSentiment)"
      ]
    },
    {
      "cell_type": "code",
      "execution_count": 84,
      "id": "afcebd67",
      "metadata": {
        "colab": {
          "base_uri": "https://localhost:8080/"
        },
        "id": "afcebd67",
        "outputId": "5d1322c4-2938-4024-f9a7-297f1f1031be"
      },
      "outputs": [
        {
          "output_type": "execute_result",
          "data": {
            "text/plain": [
              "11"
            ]
          },
          "metadata": {},
          "execution_count": 84
        }
      ],
      "source": [
        "# Storing Negative Polarity i.e. polariyt < 0\n",
        "NegativeSentiment = comments[comments[\"polarity\"]<0]\n",
        "len(NegativeSentiment)"
      ]
    },
    {
      "cell_type": "code",
      "execution_count": 85,
      "id": "0c1ee8c2",
      "metadata": {
        "colab": {
          "base_uri": "https://localhost:8080/"
        },
        "id": "0c1ee8c2",
        "outputId": "04934f90-7568-4f56-e95a-99652d327768"
      },
      "outputs": [
        {
          "output_type": "execute_result",
          "data": {
            "text/plain": [
              "11"
            ]
          },
          "metadata": {},
          "execution_count": 85
        }
      ],
      "source": [
        "NeutralSentiment = comments[comments['polarity']==0]\n",
        "len(NegativeSentiment)"
      ]
    },
    {
      "cell_type": "code",
      "execution_count": 86,
      "id": "e0c008fe",
      "metadata": {
        "colab": {
          "base_uri": "https://localhost:8080/",
          "height": 450
        },
        "id": "e0c008fe",
        "outputId": "b9718a1e-c50d-43f0-c26a-ebfc84a38c6a"
      },
      "outputs": [
        {
          "output_type": "execute_result",
          "data": {
            "text/plain": [
              "<Axes: ylabel='Frequency'>"
            ]
          },
          "metadata": {},
          "execution_count": 86
        },
        {
          "output_type": "display_data",
          "data": {
            "text/plain": [
              "<Figure size 640x480 with 1 Axes>"
            ],
            "image/png": "[encoded data removed]"
          },
          "metadata": {}
        }
      ],
      "source": [
        "# Let's Polarity histogram\n",
        "comments['polarity'].plot.hist()"
      ]
    },
    {
      "cell_type": "markdown",
      "id": "423074d1",
      "metadata": {
        "id": "423074d1"
      },
      "source": [
        "# Conclusion: Here we can see that most of thepolartiy of comments ranges between 0.00 to 0.75\n",
        "and Highest number of comment of having postive tendancy"
      ]
    },
    {
      "cell_type": "markdown",
      "id": "17434bbd",
      "metadata": {
        "id": "17434bbd"
      },
      "source": [
        "# now lets Filter out the comments and creat word cluod"
      ]
    },
    {
      "cell_type": "markdown",
      "id": "bdb4d8d4",
      "metadata": {
        "id": "bdb4d8d4"
      },
      "source": [
        "# Creating word  cloud for negative comments"
      ]
    },
    {
      "cell_type": "code",
      "execution_count": 87,
      "id": "c773ee5e",
      "metadata": {
        "id": "c773ee5e"
      },
      "outputs": [],
      "source": [
        "# Creating filter for postive comments\n",
        "filter1= comments['polarity'] ==1"
      ]
    },
    {
      "cell_type": "code",
      "execution_count": 88,
      "id": "6c7b8f3b",
      "metadata": {
        "id": "6c7b8f3b"
      },
      "outputs": [],
      "source": [
        "comments_positive = comments[filter1]"
      ]
    },
    {
      "cell_type": "code",
      "execution_count": 89,
      "id": "2944befa",
      "metadata": {
        "colab": {
          "base_uri": "https://localhost:8080/",
          "height": 206
        },
        "id": "2944befa",
        "outputId": "3e11e071-7a21-4bce-c1dd-3a943f94b6da"
      },
      "outputs": [
        {
          "output_type": "execute_result",
          "data": {
            "text/plain": [
              "                         Comments_text  polarity\n",
              "1.0                          perfect\\n       1.0\n",
              "1.0  it&#39;s a very beautiful movie\\n       1.0\n",
              "1.0              perfect tom cruise👍\\n       1.0\n",
              "1.0                          perfect\\n       1.0\n",
              "1.0                          perfect\\n       1.0"
            ],
            "text/html": [
              "\n",
              "  <div id=\"df-dbb35ad8-95e9-4575-8c45-8d9d50c80a62\" class=\"colab-df-container\">\n",
              "    <div>\n",
              "<style scoped>\n",
              "    .dataframe tbody tr th:only-of-type {\n",
              "        vertical-align: middle;\n",
              "    }\n",
              "\n",
              "    .dataframe tbody tr th {\n",
              "        vertical-align: top;\n",
              "    }\n",
              "\n",
              "    .dataframe thead th {\n",
              "        text-align: right;\n",
              "    }\n",
              "</style>\n",
              "<table border=\"1\" class=\"dataframe\">\n",
              "  <thead>\n",
              "    <tr style=\"text-align: right;\">\n",
              "      <th></th>\n",
              "      <th>Comments_text</th>\n",
              "      <th>polarity</th>\n",
              "    </tr>\n",
              "  </thead>\n",
              "  <tbody>\n",
              "    <tr>\n",
              "      <th>1.0</th>\n",
              "      <td>perfect\\n</td>\n",
              "      <td>1.0</td>\n",
              "    </tr>\n",
              "    <tr>\n",
              "      <th>1.0</th>\n",
              "      <td>it&amp;#39;s a very beautiful movie\\n</td>\n",
              "      <td>1.0</td>\n",
              "    </tr>\n",
              "    <tr>\n",
              "      <th>1.0</th>\n",
              "      <td>perfect tom cruise👍\\n</td>\n",
              "      <td>1.0</td>\n",
              "    </tr>\n",
              "    <tr>\n",
              "      <th>1.0</th>\n",
              "      <td>perfect\\n</td>\n",
              "      <td>1.0</td>\n",
              "    </tr>\n",
              "    <tr>\n",
              "      <th>1.0</th>\n",
              "      <td>perfect\\n</td>\n",
              "      <td>1.0</td>\n",
              "    </tr>\n",
              "  </tbody>\n",
              "</table>\n",
              "</div>\n",
              "    <div class=\"colab-df-buttons\">\n",
              "\n",
              "  <div class=\"colab-df-container\">\n",
              "    <button class=\"colab-df-convert\" onclick=\"convertToInteractive('df-dbb35ad8-95e9-4575-8c45-8d9d50c80a62')\"\n",
              "            title=\"Convert this dataframe to an interactive table.\"\n",
              "            style=\"display:none;\">\n",
              "\n",
              "  <svg xmlns=\"http://www.w3.org/2000/svg\" height=\"24px\" viewBox=\"0 -960 960 960\">\n",
              "    <path d=\"M120-120v-720h720v720H120Zm60-500h600v-160H180v160Zm220 220h160v-160H400v160Zm0 220h160v-160H400v160ZM180-400h160v-160H180v160Zm440 0h160v-160H620v160ZM180-180h160v-160H180v160Zm440 0h160v-160H620v160Z\"/>\n",
              "  </svg>\n",
              "    </button>\n",
              "\n",
              "  <style>\n",
              "    .colab-df-container {\n",
              "      display:flex;\n",
              "      gap: 12px;\n",
              "    }\n",
              "\n",
              "    .colab-df-convert {\n",
              "      background-color: #E8F0FE;\n",
              "      border: none;\n",
              "      border-radius: 50%;\n",
              "      cursor: pointer;\n",
              "      display: none;\n",
              "      fill: #1967D2;\n",
              "      height: 32px;\n",
              "      padding: 0 0 0 0;\n",
              "      width: 32px;\n",
              "    }\n",
              "\n",
              "    .colab-df-convert:hover {\n",
              "      background-color: #E2EBFA;\n",
              "      box-shadow: 0px 1px 2px rgba(60, 64, 67, 0.3), 0px 1px 3px 1px rgba(60, 64, 67, 0.15);\n",
              "      fill: #174EA6;\n",
              "    }\n",
              "\n",
              "    .colab-df-buttons div {\n",
              "      margin-bottom: 4px;\n",
              "    }\n",
              "\n",
              "    [theme=dark] .colab-df-convert {\n",
              "      background-color: #3B4455;\n",
              "      fill: #D2E3FC;\n",
              "    }\n",
              "\n",
              "    [theme=dark] .colab-df-convert:hover {\n",
              "      background-color: #434B5C;\n",
              "      box-shadow: 0px 1px 3px 1px rgba(0, 0, 0, 0.15);\n",
              "      filter: drop-shadow(0px 1px 2px rgba(0, 0, 0, 0.3));\n",
              "      fill: #FFFFFF;\n",
              "    }\n",
              "  </style>\n",
              "\n",
              "    <script>\n",
              "      const buttonEl =\n",
              "        document.querySelector('#df-dbb35ad8-95e9-4575-8c45-8d9d50c80a62 button.colab-df-convert');\n",
              "      buttonEl.style.display =\n",
              "        google.colab.kernel.accessAllowed ? 'block' : 'none';\n",
              "\n",
              "      async function convertToInteractive(key) {\n",
              "        const element = document.querySelector('#df-dbb35ad8-95e9-4575-8c45-8d9d50c80a62');\n",
              "        const dataTable =\n",
              "          await google.colab.kernel.invokeFunction('convertToInteractive',\n",
              "                                                    [key], {});\n",
              "        if (!dataTable) return;\n",
              "\n",
              "        const docLinkHtml = 'Like what you see? Visit the ' +\n",
              "          '<a target=\"_blank\" href=https://colab.research.google.com/notebooks/data_table.ipynb>data table notebook</a>'\n",
              "          + ' to learn more about interactive tables.';\n",
              "        element.innerHTML = '';\n",
              "        dataTable['output_type'] = 'display_data';\n",
              "        await google.colab.output.renderOutput(dataTable, element);\n",
              "        const docLink = document.createElement('div');\n",
              "        docLink.innerHTML = docLinkHtml;\n",
              "        element.appendChild(docLink);\n",
              "      }\n",
              "    </script>\n",
              "  </div>\n",
              "\n",
              "\n",
              "<div id=\"df-9f6f1b92-9e14-41d0-87b8-7576987f81f6\">\n",
              "  <button class=\"colab-df-quickchart\" onclick=\"quickchart('df-9f6f1b92-9e14-41d0-87b8-7576987f81f6')\"\n",
              "            title=\"Suggest charts\"\n",
              "            style=\"display:none;\">\n",
              "\n",
              "<svg xmlns=\"http://www.w3.org/2000/svg\" height=\"24px\"viewBox=\"0 0 24 24\"\n",
              "     width=\"24px\">\n",
              "    <g>\n",
              "        <path d=\"M19 3H5c-1.1 0-2 .9-2 2v14c0 1.1.9 2 2 2h14c1.1 0 2-.9 2-2V5c0-1.1-.9-2-2-2zM9 17H7v-7h2v7zm4 0h-2V7h2v10zm4 0h-2v-4h2v4z\"/>\n",
              "    </g>\n",
              "</svg>\n",
              "  </button>\n",
              "\n",
              "<style>\n",
              "  .colab-df-quickchart {\n",
              "      --bg-color: #E8F0FE;\n",
              "      --fill-color: #1967D2;\n",
              "      --hover-bg-color: #E2EBFA;\n",
              "      --hover-fill-color: #174EA6;\n",
              "      --disabled-fill-color: #AAA;\n",
              "      --disabled-bg-color: #DDD;\n",
              "  }\n",
              "\n",
              "  [theme=dark] .colab-df-quickchart {\n",
              "      --bg-color: #3B4455;\n",
              "      --fill-color: #D2E3FC;\n",
              "      --hover-bg-color: #434B5C;\n",
              "      --hover-fill-color: #FFFFFF;\n",
              "      --disabled-bg-color: #3B4455;\n",
              "      --disabled-fill-color: #666;\n",
              "  }\n",
              "\n",
              "  .colab-df-quickchart {\n",
              "    background-color: var(--bg-color);\n",
              "    border: none;\n",
              "    border-radius: 50%;\n",
              "    cursor: pointer;\n",
              "    display: none;\n",
              "    fill: var(--fill-color);\n",
              "    height: 32px;\n",
              "    padding: 0;\n",
              "    width: 32px;\n",
              "  }\n",
              "\n",
              "  .colab-df-quickchart:hover {\n",
              "    background-color: var(--hover-bg-color);\n",
              "    box-shadow: 0 1px 2px rgba(60, 64, 67, 0.3), 0 1px 3px 1px rgba(60, 64, 67, 0.15);\n",
              "    fill: var(--button-hover-fill-color);\n",
              "  }\n",
              "\n",
              "  .colab-df-quickchart-complete:disabled,\n",
              "  .colab-df-quickchart-complete:disabled:hover {\n",
              "    background-color: var(--disabled-bg-color);\n",
              "    fill: var(--disabled-fill-color);\n",
              "    box-shadow: none;\n",
              "  }\n",
              "\n",
              "  .colab-df-spinner {\n",
              "    border: 2px solid var(--fill-color);\n",
              "    border-color: transparent;\n",
              "    border-bottom-color: var(--fill-color);\n",
              "    animation:\n",
              "      spin 1s steps(1) infinite;\n",
              "  }\n",
              "\n",
              "  @keyframes spin {\n",
              "    0% {\n",
              "      border-color: transparent;\n",
              "      border-bottom-color: var(--fill-color);\n",
              "      border-left-color: var(--fill-color);\n",
              "    }\n",
              "    20% {\n",
              "      border-color: transparent;\n",
              "      border-left-color: var(--fill-color);\n",
              "      border-top-color: var(--fill-color);\n",
              "    }\n",
              "    30% {\n",
              "      border-color: transparent;\n",
              "      border-left-color: var(--fill-color);\n",
              "      border-top-color: var(--fill-color);\n",
              "      border-right-color: var(--fill-color);\n",
              "    }\n",
              "    40% {\n",
              "      border-color: transparent;\n",
              "      border-right-color: var(--fill-color);\n",
              "      border-top-color: var(--fill-color);\n",
              "    }\n",
              "    60% {\n",
              "      border-color: transparent;\n",
              "      border-right-color: var(--fill-color);\n",
              "    }\n",
              "    80% {\n",
              "      border-color: transparent;\n",
              "      border-right-color: var(--fill-color);\n",
              "      border-bottom-color: var(--fill-color);\n",
              "    }\n",
              "    90% {\n",
              "      border-color: transparent;\n",
              "      border-bottom-color: var(--fill-color);\n",
              "    }\n",
              "  }\n",
              "</style>\n",
              "\n",
              "  <script>\n",
              "    async function quickchart(key) {\n",
              "      const quickchartButtonEl =\n",
              "        document.querySelector('#' + key + ' button');\n",
              "      quickchartButtonEl.disabled = true;  // To prevent multiple clicks.\n",
              "      quickchartButtonEl.classList.add('colab-df-spinner');\n",
              "      try {\n",
              "        const charts = await google.colab.kernel.invokeFunction(\n",
              "            'suggestCharts', [key], {});\n",
              "      } catch (error) {\n",
              "        console.error('Error during call to suggestCharts:', error);\n",
              "      }\n",
              "      quickchartButtonEl.classList.remove('colab-df-spinner');\n",
              "      quickchartButtonEl.classList.add('colab-df-quickchart-complete');\n",
              "    }\n",
              "    (() => {\n",
              "      let quickchartButtonEl =\n",
              "        document.querySelector('#df-9f6f1b92-9e14-41d0-87b8-7576987f81f6 button');\n",
              "      quickchartButtonEl.style.display =\n",
              "        google.colab.kernel.accessAllowed ? 'block' : 'none';\n",
              "    })();\n",
              "  </script>\n",
              "</div>\n",
              "\n",
              "    </div>\n",
              "  </div>\n"
            ],
            "application/vnd.google.colaboratory.intrinsic+json": {
              "type": "dataframe",
              "variable_name": "comments_positive",
              "summary": "{\n  \"name\": \"comments_positive\",\n  \"rows\": 6,\n  \"fields\": [\n    {\n      \"column\": \"Comments_text\",\n      \"properties\": {\n        \"dtype\": \"string\",\n        \"num_unique_values\": 4,\n        \"samples\": [\n          \"it&#39;s a very beautiful movie\\n\",\n          \"awesome!\\n\",\n          \"perfect\\n\"\n        ],\n        \"semantic_type\": \"\",\n        \"description\": \"\"\n      }\n    },\n    {\n      \"column\": \"polarity\",\n      \"properties\": {\n        \"dtype\": \"number\",\n        \"std\": 0.0,\n        \"min\": 1.0,\n        \"max\": 1.0,\n        \"num_unique_values\": 1,\n        \"samples\": [\n          1.0\n        ],\n        \"semantic_type\": \"\",\n        \"description\": \"\"\n      }\n    }\n  ]\n}"
            }
          },
          "metadata": {},
          "execution_count": 89
        }
      ],
      "source": [
        "comments_positive.head()"
      ]
    },
    {
      "cell_type": "code",
      "execution_count": 90,
      "id": "94137fc2",
      "metadata": {
        "colab": {
          "base_uri": "https://localhost:8080/",
          "height": 53
        },
        "id": "94137fc2",
        "outputId": "3ad2098f-9574-4e65-e2f3-514bb6d54444"
      },
      "outputs": [
        {
          "output_type": "execute_result",
          "data": {
            "text/plain": [
              "Empty DataFrame\n",
              "Columns: [Comments_text, polarity]\n",
              "Index: []"
            ],
            "text/html": [
              "\n",
              "  <div id=\"df-fc7b792d-6288-4a14-8bac-9619bf9052dc\" class=\"colab-df-container\">\n",
              "    <div>\n",
              "<style scoped>\n",
              "    .dataframe tbody tr th:only-of-type {\n",
              "        vertical-align: middle;\n",
              "    }\n",
              "\n",
              "    .dataframe tbody tr th {\n",
              "        vertical-align: top;\n",
              "    }\n",
              "\n",
              "    .dataframe thead th {\n",
              "        text-align: right;\n",
              "    }\n",
              "</style>\n",
              "<table border=\"1\" class=\"dataframe\">\n",
              "  <thead>\n",
              "    <tr style=\"text-align: right;\">\n",
              "      <th></th>\n",
              "      <th>Comments_text</th>\n",
              "      <th>polarity</th>\n",
              "    </tr>\n",
              "  </thead>\n",
              "  <tbody>\n",
              "  </tbody>\n",
              "</table>\n",
              "</div>\n",
              "    <div class=\"colab-df-buttons\">\n",
              "\n",
              "  <div class=\"colab-df-container\">\n",
              "    <button class=\"colab-df-convert\" onclick=\"convertToInteractive('df-fc7b792d-6288-4a14-8bac-9619bf9052dc')\"\n",
              "            title=\"Convert this dataframe to an interactive table.\"\n",
              "            style=\"display:none;\">\n",
              "\n",
              "  <svg xmlns=\"http://www.w3.org/2000/svg\" height=\"24px\" viewBox=\"0 -960 960 960\">\n",
              "    <path d=\"M120-120v-720h720v720H120Zm60-500h600v-160H180v160Zm220 220h160v-160H400v160Zm0 220h160v-160H400v160ZM180-400h160v-160H180v160Zm440 0h160v-160H620v160ZM180-180h160v-160H180v160Zm440 0h160v-160H620v160Z\"/>\n",
              "  </svg>\n",
              "    </button>\n",
              "\n",
              "  <style>\n",
              "    .colab-df-container {\n",
              "      display:flex;\n",
              "      gap: 12px;\n",
              "    }\n",
              "\n",
              "    .colab-df-convert {\n",
              "      background-color: #E8F0FE;\n",
              "      border: none;\n",
              "      border-radius: 50%;\n",
              "      cursor: pointer;\n",
              "      display: none;\n",
              "      fill: #1967D2;\n",
              "      height: 32px;\n",
              "      padding: 0 0 0 0;\n",
              "      width: 32px;\n",
              "    }\n",
              "\n",
              "    .colab-df-convert:hover {\n",
              "      background-color: #E2EBFA;\n",
              "      box-shadow: 0px 1px 2px rgba(60, 64, 67, 0.3), 0px 1px 3px 1px rgba(60, 64, 67, 0.15);\n",
              "      fill: #174EA6;\n",
              "    }\n",
              "\n",
              "    .colab-df-buttons div {\n",
              "      margin-bottom: 4px;\n",
              "    }\n",
              "\n",
              "    [theme=dark] .colab-df-convert {\n",
              "      background-color: #3B4455;\n",
              "      fill: #D2E3FC;\n",
              "    }\n",
              "\n",
              "    [theme=dark] .colab-df-convert:hover {\n",
              "      background-color: #434B5C;\n",
              "      box-shadow: 0px 1px 3px 1px rgba(0, 0, 0, 0.15);\n",
              "      filter: drop-shadow(0px 1px 2px rgba(0, 0, 0, 0.3));\n",
              "      fill: #FFFFFF;\n",
              "    }\n",
              "  </style>\n",
              "\n",
              "    <script>\n",
              "      const buttonEl =\n",
              "        document.querySelector('#df-fc7b792d-6288-4a14-8bac-9619bf9052dc button.colab-df-convert');\n",
              "      buttonEl.style.display =\n",
              "        google.colab.kernel.accessAllowed ? 'block' : 'none';\n",
              "\n",
              "      async function convertToInteractive(key) {\n",
              "        const element = document.querySelector('#df-fc7b792d-6288-4a14-8bac-9619bf9052dc');\n",
              "        const dataTable =\n",
              "          await google.colab.kernel.invokeFunction('convertToInteractive',\n",
              "                                                    [key], {});\n",
              "        if (!dataTable) return;\n",
              "\n",
              "        const docLinkHtml = 'Like what you see? Visit the ' +\n",
              "          '<a target=\"_blank\" href=https://colab.research.google.com/notebooks/data_table.ipynb>data table notebook</a>'\n",
              "          + ' to learn more about interactive tables.';\n",
              "        element.innerHTML = '';\n",
              "        dataTable['output_type'] = 'display_data';\n",
              "        await google.colab.output.renderOutput(dataTable, element);\n",
              "        const docLink = document.createElement('div');\n",
              "        docLink.innerHTML = docLinkHtml;\n",
              "        element.appendChild(docLink);\n",
              "      }\n",
              "    </script>\n",
              "  </div>\n",
              "\n",
              "\n",
              "    </div>\n",
              "  </div>\n"
            ],
            "application/vnd.google.colaboratory.intrinsic+json": {
              "type": "dataframe",
              "variable_name": "comments_negative",
              "repr_error": "Out of range float values are not JSON compliant: nan"
            }
          },
          "metadata": {},
          "execution_count": 90
        }
      ],
      "source": [
        "# first creating filter to filter out negative comments and then storing that in comments_negative datafram\n",
        "filter2=comments['polarity']==-1\n",
        "comments_negative = comments[filter2]\n",
        "comments_negative.head()"
      ]
    },
    {
      "cell_type": "code",
      "execution_count": 91,
      "id": "42b831ba",
      "metadata": {
        "id": "42b831ba"
      },
      "outputs": [],
      "source": [
        "# Now let's import wordcloud and STOPWORD module\n",
        "from wordcloud import WordCloud, STOPWORDS"
      ]
    },
    {
      "cell_type": "code",
      "execution_count": 92,
      "id": "57b7b9b8",
      "metadata": {
        "id": "57b7b9b8"
      },
      "outputs": [],
      "source": [
        "# Creating the set of STOPWORD s and store it\n",
        "StopWord = set(STOPWORDS)"
      ]
    },
    {
      "cell_type": "code",
      "execution_count": 96,
      "id": "bbf0cb10",
      "metadata": {
        "colab": {
          "base_uri": "https://localhost:8080/"
        },
        "id": "bbf0cb10",
        "outputId": "5053ecf6-66fc-47be-e5b6-13de874f9828"
      },
      "outputs": [
        {
          "output_type": "execute_result",
          "data": {
            "text/plain": [
              "-0.400000                this one was actually diarrhea crap\\n\n",
              " 0.214286    it&#39;s time 2 pick up a side 7.14.23 in imax...\n",
              " 0.000000                                       estuvo chida\\n\n",
              " 0.800000    &quot;truth is vanishing, war is coming &quot;...\n",
              " 0.000000    this time they have made it enormously massive...\n",
              "                                   ...                        \n",
              " 0.000000                      i recommend everyone to watch\\n\n",
              " 0.056250                      a real extreme exciting movie\\n\n",
              " 0.000000    mükemmeliyet ötesi bir filmdi arkadaşlarıma at...\n",
              " 0.000000                             eladi meslehet gorurem\\n\n",
              " 0.000000                                        woww harika\\n\n",
              "Name: Comments_text, Length: 638, dtype: object"
            ]
          },
          "metadata": {},
          "execution_count": 96
        }
      ],
      "source": [
        "comments['Comments_text']"
      ]
    },
    {
      "cell_type": "code",
      "execution_count": 97,
      "id": "c8c821d9",
      "metadata": {
        "colab": {
          "base_uri": "https://localhost:8080/",
          "height": 203
        },
        "id": "c8c821d9",
        "outputId": "d471ff33-6e37-4ce7-a12d-796ccb1fa7be"
      },
      "outputs": [
        {
          "output_type": "execute_result",
          "data": {
            "text/plain": [
              "pandas.core.series.Series"
            ],
            "text/html": [
              "<div style=\"max-width:800px; border: 1px solid var(--colab-border-color);\"><style>\n",
              "      pre.function-repr-contents {\n",
              "        overflow-x: auto;\n",
              "        padding: 8px 12px;\n",
              "        max-height: 500px;\n",
              "      }\n",
              "\n",
              "      pre.function-repr-contents.function-repr-contents-collapsed {\n",
              "        cursor: pointer;\n",
              "        max-height: 100px;\n",
              "      }\n",
              "    </style>\n",
              "    <pre style=\"white-space: initial; background:\n",
              "         var(--colab-secondary-surface-color); padding: 8px 12px;\n",
              "         border-bottom: 1px solid var(--colab-border-color);\"><b>pandas.core.series.Series</b><br/>def __init__(data=None, index=None, dtype: Dtype | None=None, name=None, copy: bool | None=None, fastpath: bool=False) -&gt; None</pre><pre class=\"function-repr-contents function-repr-contents-collapsed\" style=\"\"><a class=\"filepath\" style=\"display:none\" href=\"#\">/usr/local/lib/python3.10/dist-packages/pandas/core/series.py</a>One-dimensional ndarray with axis labels (including time series).\n",
              "\n",
              "Labels need not be unique but must be a hashable type. The object\n",
              "supports both integer- and label-based indexing and provides a host of\n",
              "methods for performing operations involving the index. Statistical\n",
              "methods from ndarray have been overridden to automatically exclude\n",
              "missing data (currently represented as NaN).\n",
              "\n",
              "Operations between Series (+, -, /, \\*, \\*\\*) align values based on their\n",
              "associated index values-- they need not be the same length. The result\n",
              "index will be the sorted union of the two indexes.\n",
              "\n",
              "Parameters\n",
              "----------\n",
              "data : array-like, Iterable, dict, or scalar value\n",
              "    Contains data stored in Series. If data is a dict, argument order is\n",
              "    maintained.\n",
              "index : array-like or Index (1d)\n",
              "    Values must be hashable and have the same length as `data`.\n",
              "    Non-unique index values are allowed. Will default to\n",
              "    RangeIndex (0, 1, 2, ..., n) if not provided. If data is dict-like\n",
              "    and index is None, then the keys in the data are used as the index. If the\n",
              "    index is not None, the resulting Series is reindexed with the index values.\n",
              "dtype : str, numpy.dtype, or ExtensionDtype, optional\n",
              "    Data type for the output Series. If not specified, this will be\n",
              "    inferred from `data`.\n",
              "    See the :ref:`user guide &lt;basics.dtypes&gt;` for more usages.\n",
              "name : Hashable, default None\n",
              "    The name to give to the Series.\n",
              "copy : bool, default False\n",
              "    Copy input data. Only affects Series or 1d ndarray input. See examples.\n",
              "\n",
              "Notes\n",
              "-----\n",
              "Please reference the :ref:`User Guide &lt;basics.series&gt;` for more information.\n",
              "\n",
              "Examples\n",
              "--------\n",
              "Constructing Series from a dictionary with an Index specified\n",
              "\n",
              "&gt;&gt;&gt; d = {&#x27;a&#x27;: 1, &#x27;b&#x27;: 2, &#x27;c&#x27;: 3}\n",
              "&gt;&gt;&gt; ser = pd.Series(data=d, index=[&#x27;a&#x27;, &#x27;b&#x27;, &#x27;c&#x27;])\n",
              "&gt;&gt;&gt; ser\n",
              "a   1\n",
              "b   2\n",
              "c   3\n",
              "dtype: int64\n",
              "\n",
              "The keys of the dictionary match with the Index values, hence the Index\n",
              "values have no effect.\n",
              "\n",
              "&gt;&gt;&gt; d = {&#x27;a&#x27;: 1, &#x27;b&#x27;: 2, &#x27;c&#x27;: 3}\n",
              "&gt;&gt;&gt; ser = pd.Series(data=d, index=[&#x27;x&#x27;, &#x27;y&#x27;, &#x27;z&#x27;])\n",
              "&gt;&gt;&gt; ser\n",
              "x   NaN\n",
              "y   NaN\n",
              "z   NaN\n",
              "dtype: float64\n",
              "\n",
              "Note that the Index is first build with the keys from the dictionary.\n",
              "After this the Series is reindexed with the given Index values, hence we\n",
              "get all NaN as a result.\n",
              "\n",
              "Constructing Series from a list with `copy=False`.\n",
              "\n",
              "&gt;&gt;&gt; r = [1, 2]\n",
              "&gt;&gt;&gt; ser = pd.Series(r, copy=False)\n",
              "&gt;&gt;&gt; ser.iloc[0] = 999\n",
              "&gt;&gt;&gt; r\n",
              "[1, 2]\n",
              "&gt;&gt;&gt; ser\n",
              "0    999\n",
              "1      2\n",
              "dtype: int64\n",
              "\n",
              "Due to input data type the Series has a `copy` of\n",
              "the original data even though `copy=False`, so\n",
              "the data is unchanged.\n",
              "\n",
              "Constructing Series from a 1d ndarray with `copy=False`.\n",
              "\n",
              "&gt;&gt;&gt; r = np.array([1, 2])\n",
              "&gt;&gt;&gt; ser = pd.Series(r, copy=False)\n",
              "&gt;&gt;&gt; ser.iloc[0] = 999\n",
              "&gt;&gt;&gt; r\n",
              "array([999,   2])\n",
              "&gt;&gt;&gt; ser\n",
              "0    999\n",
              "1      2\n",
              "dtype: int64\n",
              "\n",
              "Due to input data type the Series has a `view` on\n",
              "the original data, so\n",
              "the data is changed as well.</pre>\n",
              "      <script>\n",
              "      if (google.colab.kernel.accessAllowed && google.colab.files && google.colab.files.view) {\n",
              "        for (const element of document.querySelectorAll('.filepath')) {\n",
              "          element.style.display = 'block'\n",
              "          element.onclick = (event) => {\n",
              "            event.preventDefault();\n",
              "            event.stopPropagation();\n",
              "            google.colab.files.view(element.textContent, 244);\n",
              "          };\n",
              "        }\n",
              "      }\n",
              "      for (const element of document.querySelectorAll('.function-repr-contents')) {\n",
              "        element.onclick = (event) => {\n",
              "          event.preventDefault();\n",
              "          event.stopPropagation();\n",
              "          element.classList.toggle('function-repr-contents-collapsed');\n",
              "        };\n",
              "      }\n",
              "      </script>\n",
              "      </div>"
            ]
          },
          "metadata": {},
          "execution_count": 97
        }
      ],
      "source": [
        "# finding the type of comment text\n",
        "type(comments['Comments_text'])"
      ]
    },
    {
      "cell_type": "code",
      "execution_count": 98,
      "id": "13a9b6d1",
      "metadata": {
        "id": "13a9b6d1"
      },
      "outputs": [],
      "source": [
        "# combining the comments text and converting it into string as it has serries\n",
        "total_positive_comments = ''.join(comments_positive['Comments_text'])"
      ]
    },
    {
      "cell_type": "code",
      "execution_count": 99,
      "id": "77266258",
      "metadata": {
        "id": "77266258"
      },
      "outputs": [],
      "source": [
        "# generates the word cloud total_positive_comments\n",
        "wordcloud1 = WordCloud(stopwords=StopWord).generate(total_positive_comments)"
      ]
    },
    {
      "cell_type": "code",
      "execution_count": 100,
      "id": "dfdfd8ed",
      "metadata": {
        "colab": {
          "base_uri": "https://localhost:8080/",
          "height": 302
        },
        "id": "dfdfd8ed",
        "outputId": "b748a6b0-a5e9-4c96-dd72-938c34c6e5e4"
      },
      "outputs": [
        {
          "output_type": "execute_result",
          "data": {
            "text/plain": [
              "(-0.5, 399.5, 199.5, -0.5)"
            ]
          },
          "metadata": {},
          "execution_count": 100
        },
        {
          "output_type": "display_data",
          "data": {
            "text/plain": [
              "<Figure size 640x480 with 1 Axes>"
            ],
            "image/png": "[encoded data removed]"
          },
          "metadata": {}
        }
      ],
      "source": [
        "# lets plot wordcloud and remove axis\n",
        "plt.imshow(wordcloud1)\n",
        "plt.axis('off')"
      ]
    },
    {
      "cell_type": "markdown",
      "id": "73ca5b07",
      "metadata": {
        "id": "73ca5b07"
      },
      "source": [
        "# In a same way we will create word cloud for negative sentiments"
      ]
    },
    {
      "cell_type": "code",
      "execution_count": 102,
      "id": "6ad5de6a",
      "metadata": {
        "id": "6ad5de6a"
      },
      "outputs": [],
      "source": [
        "# Now we will combine all the negative comments in total_Negative_Comments\n",
        "total_negative_comments = ''.join(comments_negative['Comments_text'])"
      ]
    },
    {
      "cell_type": "code",
      "execution_count": 105,
      "id": "68dc3440",
      "metadata": {
        "colab": {
          "base_uri": "https://localhost:8080/",
          "height": 321
        },
        "id": "68dc3440",
        "outputId": "05665433-1aef-4c55-dfdc-8fbdd02d1f72"
      },
      "outputs": [
        {
          "output_type": "error",
          "ename": "ValueError",
          "evalue": "We need at least 1 word to plot a word cloud, got 0.",
          "traceback": [
            "\u001b[0;31m---------------------------------------------------------------------------\u001b[0m",
            "\u001b[0;31mValueError\u001b[0m                                Traceback (most recent call last)",
            "\u001b[0;32m<ipython-input-105-877152f6e5f5>\u001b[0m in \u001b[0;36m<cell line: 1>\u001b[0;34m()\u001b[0m\n\u001b[0;32m----> 1\u001b[0;31m \u001b[0mwordcloud2\u001b[0m \u001b[0;34m=\u001b[0m \u001b[0mWordCloud\u001b[0m\u001b[0;34m(\u001b[0m\u001b[0mstopwords\u001b[0m\u001b[0;34m=\u001b[0m\u001b[0mStopWord\u001b[0m\u001b[0;34m)\u001b[0m\u001b[0;34m.\u001b[0m\u001b[0mgenerate\u001b[0m\u001b[0;34m(\u001b[0m\u001b[0mtotal_negative_comments\u001b[0m\u001b[0;34m)\u001b[0m\u001b[0;34m\u001b[0m\u001b[0;34m\u001b[0m\u001b[0m\n\u001b[0m\u001b[1;32m      2\u001b[0m \u001b[0mplt\u001b[0m\u001b[0;34m.\u001b[0m\u001b[0mimshow\u001b[0m\u001b[0;34m(\u001b[0m\u001b[0mwordcloud2\u001b[0m\u001b[0;34m)\u001b[0m\u001b[0;34m\u001b[0m\u001b[0;34m\u001b[0m\u001b[0m\n\u001b[1;32m      3\u001b[0m \u001b[0mplt\u001b[0m\u001b[0;34m.\u001b[0m\u001b[0maxis\u001b[0m\u001b[0;34m(\u001b[0m\u001b[0;34m'off'\u001b[0m\u001b[0;34m)\u001b[0m\u001b[0;34m\u001b[0m\u001b[0;34m\u001b[0m\u001b[0m\n",
            "\u001b[0;32m/usr/local/lib/python3.10/dist-packages/wordcloud/wordcloud.py\u001b[0m in \u001b[0;36mgenerate\u001b[0;34m(self, text)\u001b[0m\n\u001b[1;32m    640\u001b[0m         \u001b[0mself\u001b[0m\u001b[0;34m\u001b[0m\u001b[0;34m\u001b[0m\u001b[0m\n\u001b[1;32m    641\u001b[0m         \"\"\"\n\u001b[0;32m--> 642\u001b[0;31m         \u001b[0;32mreturn\u001b[0m \u001b[0mself\u001b[0m\u001b[0;34m.\u001b[0m\u001b[0mgenerate_from_text\u001b[0m\u001b[0;34m(\u001b[0m\u001b[0mtext\u001b[0m\u001b[0;34m)\u001b[0m\u001b[0;34m\u001b[0m\u001b[0;34m\u001b[0m\u001b[0m\n\u001b[0m\u001b[1;32m    643\u001b[0m \u001b[0;34m\u001b[0m\u001b[0m\n\u001b[1;32m    644\u001b[0m     \u001b[0;32mdef\u001b[0m \u001b[0m_check_generated\u001b[0m\u001b[0;34m(\u001b[0m\u001b[0mself\u001b[0m\u001b[0;34m)\u001b[0m\u001b[0;34m:\u001b[0m\u001b[0;34m\u001b[0m\u001b[0;34m\u001b[0m\u001b[0m\n",
            "\u001b[0;32m/usr/local/lib/python3.10/dist-packages/wordcloud/wordcloud.py\u001b[0m in \u001b[0;36mgenerate_from_text\u001b[0;34m(self, text)\u001b[0m\n\u001b[1;32m    622\u001b[0m         \"\"\"\n\u001b[1;32m    623\u001b[0m         \u001b[0mwords\u001b[0m \u001b[0;34m=\u001b[0m \u001b[0mself\u001b[0m\u001b[0;34m.\u001b[0m\u001b[0mprocess_text\u001b[0m\u001b[0;34m(\u001b[0m\u001b[0mtext\u001b[0m\u001b[0;34m)\u001b[0m\u001b[0;34m\u001b[0m\u001b[0;34m\u001b[0m\u001b[0m\n\u001b[0;32m--> 624\u001b[0;31m         \u001b[0mself\u001b[0m\u001b[0;34m.\u001b[0m\u001b[0mgenerate_from_frequencies\u001b[0m\u001b[0;34m(\u001b[0m\u001b[0mwords\u001b[0m\u001b[0;34m)\u001b[0m\u001b[0;34m\u001b[0m\u001b[0;34m\u001b[0m\u001b[0m\n\u001b[0m\u001b[1;32m    625\u001b[0m         \u001b[0;32mreturn\u001b[0m \u001b[0mself\u001b[0m\u001b[0;34m\u001b[0m\u001b[0;34m\u001b[0m\u001b[0m\n\u001b[1;32m    626\u001b[0m \u001b[0;34m\u001b[0m\u001b[0m\n",
            "\u001b[0;32m/usr/local/lib/python3.10/dist-packages/wordcloud/wordcloud.py\u001b[0m in \u001b[0;36mgenerate_from_frequencies\u001b[0;34m(self, frequencies, max_font_size)\u001b[0m\n\u001b[1;32m    408\u001b[0m         \u001b[0mfrequencies\u001b[0m \u001b[0;34m=\u001b[0m \u001b[0msorted\u001b[0m\u001b[0;34m(\u001b[0m\u001b[0mfrequencies\u001b[0m\u001b[0;34m.\u001b[0m\u001b[0mitems\u001b[0m\u001b[0;34m(\u001b[0m\u001b[0;34m)\u001b[0m\u001b[0;34m,\u001b[0m \u001b[0mkey\u001b[0m\u001b[0;34m=\u001b[0m\u001b[0mitemgetter\u001b[0m\u001b[0;34m(\u001b[0m\u001b[0;36m1\u001b[0m\u001b[0;34m)\u001b[0m\u001b[0;34m,\u001b[0m \u001b[0mreverse\u001b[0m\u001b[0;34m=\u001b[0m\u001b[0;32mTrue\u001b[0m\u001b[0;34m)\u001b[0m\u001b[0;34m\u001b[0m\u001b[0;34m\u001b[0m\u001b[0m\n\u001b[1;32m    409\u001b[0m         \u001b[0;32mif\u001b[0m \u001b[0mlen\u001b[0m\u001b[0;34m(\u001b[0m\u001b[0mfrequencies\u001b[0m\u001b[0;34m)\u001b[0m \u001b[0;34m<=\u001b[0m \u001b[0;36m0\u001b[0m\u001b[0;34m:\u001b[0m\u001b[0;34m\u001b[0m\u001b[0;34m\u001b[0m\u001b[0m\n\u001b[0;32m--> 410\u001b[0;31m             raise ValueError(\"We need at least 1 word to plot a word cloud, \"\n\u001b[0m\u001b[1;32m    411\u001b[0m                              \"got %d.\" % len(frequencies))\n\u001b[1;32m    412\u001b[0m         \u001b[0mfrequencies\u001b[0m \u001b[0;34m=\u001b[0m \u001b[0mfrequencies\u001b[0m\u001b[0;34m[\u001b[0m\u001b[0;34m:\u001b[0m\u001b[0mself\u001b[0m\u001b[0;34m.\u001b[0m\u001b[0mmax_words\u001b[0m\u001b[0;34m]\u001b[0m\u001b[0;34m\u001b[0m\u001b[0;34m\u001b[0m\u001b[0m\n",
            "\u001b[0;31mValueError\u001b[0m: We need at least 1 word to plot a word cloud, got 0."
          ]
        }
      ],
      "source": [
        "wordcloud2 = WordCloud(stopwords=StopWord).generate(total_negative_comments)\n",
        "plt.imshow(wordcloud2)\n",
        "plt.axis('off')"
      ]
    },
    {
      "cell_type": "markdown",
      "id": "6c9fa0e1",
      "metadata": {
        "id": "6c9fa0e1"
      },
      "source": [
        "# now we will do emoji analysis"
      ]
    },
    {
      "cell_type": "code",
      "execution_count": null,
      "id": "c3277436",
      "metadata": {
        "id": "c3277436"
      },
      "outputs": [],
      "source": [
        "import emoji"
      ]
    },
    {
      "cell_type": "code",
      "execution_count": 106,
      "id": "aadec479",
      "metadata": {
        "colab": {
          "base_uri": "https://localhost:8080/"
        },
        "id": "aadec479",
        "outputId": "4760184b-b918-4592-9f18-9f1c9ad2c8a0"
      },
      "outputs": [
        {
          "output_type": "execute_result",
          "data": {
            "text/plain": [
              "-0.400000                this one was actually diarrhea crap\\n\n",
              " 0.214286    it&#39;s time 2 pick up a side 7.14.23 in imax...\n",
              " 0.000000                                       estuvo chida\\n\n",
              " 0.800000    &quot;truth is vanishing, war is coming &quot;...\n",
              " 0.000000    this time they have made it enormously massive...\n",
              "Name: Comments_text, dtype: object"
            ]
          },
          "metadata": {},
          "execution_count": 106
        }
      ],
      "source": [
        "comments['Comments_text'].head()"
      ]
    },
    {
      "cell_type": "code",
      "execution_count": 107,
      "id": "d0a72d51",
      "metadata": {
        "id": "d0a72d51"
      },
      "outputs": [],
      "source": [
        "comment1 = ' trending 😉'"
      ]
    },
    {
      "cell_type": "code",
      "execution_count": 108,
      "id": "3dc3ce21",
      "metadata": {
        "colab": {
          "base_uri": "https://localhost:8080/"
        },
        "id": "3dc3ce21",
        "outputId": "6820b4e0-c488-4f76-bb32-045e277be870"
      },
      "outputs": [
        {
          "output_type": "execute_result",
          "data": {
            "text/plain": [
              "['😉']"
            ]
          },
          "metadata": {},
          "execution_count": 108
        }
      ],
      "source": [
        "# lets try to extract the emoji from above text\n",
        "[char for char in comment1 if char in emoji.EMOJI_DATA] #This is a code for list comprehension"
      ]
    },
    {
      "cell_type": "code",
      "execution_count": 109,
      "id": "0752c0ea",
      "metadata": {
        "id": "0752c0ea"
      },
      "outputs": [],
      "source": [
        "emoji_list = []\n",
        "for char in comment1:\n",
        "    if char in emoji.EMOJI_DATA:\n",
        "        emoji_list.append(char)"
      ]
    },
    {
      "cell_type": "code",
      "execution_count": 110,
      "id": "944309c0",
      "metadata": {
        "colab": {
          "base_uri": "https://localhost:8080/"
        },
        "id": "944309c0",
        "outputId": "6142a3ba-b06c-4ef9-92fd-e3ded0324d98"
      },
      "outputs": [
        {
          "output_type": "execute_result",
          "data": {
            "text/plain": [
              "['😉']"
            ]
          },
          "metadata": {},
          "execution_count": 110
        }
      ],
      "source": [
        "emoji_list"
      ]
    },
    {
      "cell_type": "code",
      "execution_count": 112,
      "id": "e0f93343",
      "metadata": {
        "id": "e0f93343"
      },
      "outputs": [],
      "source": [
        "all_emoji_list = []\n",
        "for comment in comments['Comments_text'].dropna():\n",
        "    for char in comment:\n",
        "        if char in emoji.EMOJI_DATA:\n",
        "            all_emoji_list.append(char)"
      ]
    },
    {
      "cell_type": "code",
      "execution_count": 113,
      "id": "69729046",
      "metadata": {
        "colab": {
          "base_uri": "https://localhost:8080/"
        },
        "id": "69729046",
        "outputId": "957b622c-8fd3-4a09-f919-5df49e0331fe"
      },
      "outputs": [
        {
          "output_type": "execute_result",
          "data": {
            "text/plain": [
              "['👽', '❤', '🎉', '🎉', '🎉', '❤', '😅', '🎉', '🎉', '🤗']"
            ]
          },
          "metadata": {},
          "execution_count": 113
        }
      ],
      "source": [
        "all_emoji_list[0:10]"
      ]
    },
    {
      "cell_type": "code",
      "execution_count": 114,
      "id": "ba6444c3",
      "metadata": {
        "id": "ba6444c3"
      },
      "outputs": [],
      "source": [
        "# importing counter moudle from collection package to count the count of emojis\n",
        "from collections import Counter"
      ]
    },
    {
      "cell_type": "code",
      "execution_count": 115,
      "id": "a3ef1e33",
      "metadata": {
        "colab": {
          "base_uri": "https://localhost:8080/"
        },
        "id": "a3ef1e33",
        "outputId": "34a9978a-071b-44f0-ac62-70987f8b1da0"
      },
      "outputs": [
        {
          "output_type": "execute_result",
          "data": {
            "text/plain": [
              "[('❤', 67),\n",
              " ('🎉', 56),\n",
              " ('👍', 36),\n",
              " ('🏻', 17),\n",
              " ('😊', 14),\n",
              " ('😮', 12),\n",
              " ('😍', 12),\n",
              " ('⭐', 5),\n",
              " ('👏', 4),\n",
              " ('👌', 3)]"
            ]
          },
          "metadata": {},
          "execution_count": 115
        }
      ],
      "source": [
        "Counter(all_emoji_list).most_common(10)"
      ]
    },
    {
      "cell_type": "code",
      "execution_count": 116,
      "id": "487eff01",
      "metadata": {
        "colab": {
          "base_uri": "https://localhost:8080/"
        },
        "id": "487eff01",
        "outputId": "d682040b-8381-4440-a038-e88db8c8be61"
      },
      "outputs": [
        {
          "output_type": "execute_result",
          "data": {
            "text/plain": [
              "('❤', 67)"
            ]
          },
          "metadata": {},
          "execution_count": 116
        }
      ],
      "source": [
        "Counter(all_emoji_list).most_common(10)[0]"
      ]
    },
    {
      "cell_type": "code",
      "execution_count": 117,
      "id": "32f912e1",
      "metadata": {
        "colab": {
          "base_uri": "https://localhost:8080/",
          "height": 35
        },
        "id": "32f912e1",
        "outputId": "07e3a88b-cb9e-44b2-888f-72b3a43bf905"
      },
      "outputs": [
        {
          "output_type": "execute_result",
          "data": {
            "text/plain": [
              "'❤'"
            ],
            "application/vnd.google.colaboratory.intrinsic+json": {
              "type": "string"
            }
          },
          "metadata": {},
          "execution_count": 117
        }
      ],
      "source": [
        "Counter(all_emoji_list).most_common(10)[0][0]"
      ]
    },
    {
      "cell_type": "code",
      "execution_count": 118,
      "id": "d0a05678",
      "metadata": {
        "colab": {
          "base_uri": "https://localhost:8080/"
        },
        "id": "d0a05678",
        "outputId": "a6ffb28e-d92d-4107-f82c-b8e46f6138f5"
      },
      "outputs": [
        {
          "output_type": "execute_result",
          "data": {
            "text/plain": [
              "56"
            ]
          },
          "metadata": {},
          "execution_count": 118
        }
      ],
      "source": [
        "Counter(all_emoji_list).most_common(10)[1][1]"
      ]
    },
    {
      "cell_type": "code",
      "source": [
        "Counter(all_emoji_list).most_common(10)"
      ],
      "metadata": {
        "colab": {
          "base_uri": "https://localhost:8080/"
        },
        "id": "L_ymW4hr0BEF",
        "outputId": "3827a832-8a21-4feb-90b3-5c2527751f0f"
      },
      "id": "L_ymW4hr0BEF",
      "execution_count": 119,
      "outputs": [
        {
          "output_type": "execute_result",
          "data": {
            "text/plain": [
              "[('❤', 67),\n",
              " ('🎉', 56),\n",
              " ('👍', 36),\n",
              " ('🏻', 17),\n",
              " ('😊', 14),\n",
              " ('😮', 12),\n",
              " ('😍', 12),\n",
              " ('⭐', 5),\n",
              " ('👏', 4),\n",
              " ('👌', 3)]"
            ]
          },
          "metadata": {},
          "execution_count": 119
        }
      ]
    },
    {
      "cell_type": "code",
      "execution_count": 128,
      "id": "02b2dcf4",
      "metadata": {
        "id": "02b2dcf4"
      },
      "outputs": [],
      "source": [
        "# here we are using for loop for iterate for collecting the emojis separately for plotting\n",
        "emojis = [Counter(all_emoji_list).most_common(10)[i][0] for i in range(10)]"
      ]
    },
    {
      "cell_type": "code",
      "execution_count": 129,
      "id": "7f8c2154",
      "metadata": {
        "colab": {
          "base_uri": "https://localhost:8080/"
        },
        "id": "7f8c2154",
        "outputId": "d32f35e8-756f-444a-8069-712b270690c1"
      },
      "outputs": [
        {
          "output_type": "execute_result",
          "data": {
            "text/plain": [
              "['❤', '🎉', '👍', '🏻', '😊', '😮', '😍', '⭐', '👏', '👌']"
            ]
          },
          "metadata": {},
          "execution_count": 129
        }
      ],
      "source": [
        "emojis"
      ]
    },
    {
      "cell_type": "code",
      "execution_count": 130,
      "id": "480e9f46",
      "metadata": {
        "id": "480e9f46"
      },
      "outputs": [],
      "source": [
        "# here we are using for loop for iterate for collecting the frequesncy related to emoji separately for plotting\n",
        "freqs = [Counter(all_emoji_list).most_common(10)[i][1] for i in range(10)]"
      ]
    },
    {
      "cell_type": "code",
      "execution_count": 131,
      "id": "513ab1c9",
      "metadata": {
        "colab": {
          "base_uri": "https://localhost:8080/"
        },
        "id": "513ab1c9",
        "outputId": "b7b5993b-47f7-4743-df7c-c7f67dd172f7"
      },
      "outputs": [
        {
          "output_type": "execute_result",
          "data": {
            "text/plain": [
              "[67, 56, 36, 17, 14, 12, 12, 5, 4, 3]"
            ]
          },
          "metadata": {},
          "execution_count": 131
        }
      ],
      "source": [
        "freqs"
      ]
    },
    {
      "cell_type": "code",
      "execution_count": 132,
      "id": "35360876",
      "metadata": {
        "id": "35360876"
      },
      "outputs": [],
      "source": [
        "import plotly.graph_objs as go\n",
        "from plotly.offline import iplot"
      ]
    },
    {
      "cell_type": "code",
      "execution_count": 133,
      "id": "fd675988",
      "metadata": {
        "id": "fd675988"
      },
      "outputs": [],
      "source": [
        "trace = go.Bar(x=emojis,y=freqs)"
      ]
    },
    {
      "cell_type": "code",
      "execution_count": 134,
      "id": "42e69cf2",
      "metadata": {
        "colab": {
          "base_uri": "https://localhost:8080/",
          "height": 542
        },
        "id": "42e69cf2",
        "outputId": "003b6b79-f735-4d94-bce9-7eab5eb62982"
      },
      "outputs": [
        {
          "output_type": "display_data",
          "data": {
            "text/html": [
              "<html>\n",
              "<head><meta charset=\"utf-8\" /></head>\n",
              "<body>\n",
              "    <div>            <script src=\"https://cdnjs.cloudflare.com/ajax/libs/mathjax/2.7.5/MathJax.js?config=TeX-AMS-MML_SVG\"></script><script type=\"text/javascript\">if (window.MathJax && window.MathJax.Hub && window.MathJax.Hub.Config) {window.MathJax.Hub.Config({SVG: {font: \"STIX-Web\"}});}</script>                <script type=\"text/javascript\">window.PlotlyConfig = {MathJaxConfig: 'local'};</script>\n",
              "        <script charset=\"utf-8\" src=\"https://cdn.plot.ly/plotly-2.24.1.min.js\"></script>                <div id=\"9b847cd4-9e18-4d50-a987-47334f9868d8\" class=\"plotly-graph-div\" style=\"height:525px; width:100%;\"></div>            <script type=\"text/javascript\">                                    window.PLOTLYENV=window.PLOTLYENV || {};                                    if (document.getElementById(\"9b847cd4-9e18-4d50-a987-47334f9868d8\")) {                    Plotly.newPlot(                        \"9b847cd4-9e18-4d50-a987-47334f9868d8\",                        [{\"x\":[\"\\u2764\",\"\\ud83c\\udf89\",\"\\ud83d\\udc4d\",\"\\ud83c\\udffb\",\"\\ud83d\\ude0a\",\"\\ud83d\\ude2e\",\"\\ud83d\\ude0d\",\"\\u2b50\",\"\\ud83d\\udc4f\",\"\\ud83d\\udc4c\"],\"y\":[67,56,36,17,14,12,12,5,4,3],\"type\":\"bar\"}],                        {\"template\":{\"data\":{\"barpolar\":[{\"marker\":{\"line\":{\"color\":\"#E5ECF6\",\"width\":0.5},\"pattern\":{\"fillmode\":\"overlay\",\"size\":10,\"solidity\":0.2}},\"type\":\"barpolar\"}],\"bar\":[{\"error_x\":{\"color\":\"#2a3f5f\"},\"error_y\":{\"color\":\"#2a3f5f\"},\"marker\":{\"line\":{\"color\":\"#E5ECF6\",\"width\":0.5},\"pattern\":{\"fillmode\":\"overlay\",\"size\":10,\"solidity\":0.2}},\"type\":\"bar\"}],\"carpet\":[{\"aaxis\":{\"endlinecolor\":\"#2a3f5f\",\"gridcolor\":\"white\",\"linecolor\":\"white\",\"minorgridcolor\":\"white\",\"startlinecolor\":\"#2a3f5f\"},\"baxis\":{\"endlinecolor\":\"#2a3f5f\",\"gridcolor\":\"white\",\"linecolor\":\"white\",\"minorgridcolor\":\"white\",\"startlinecolor\":\"#2a3f5f\"},\"type\":\"carpet\"}],\"choropleth\":[{\"colorbar\":{\"outlinewidth\":0,\"ticks\":\"\"},\"type\":\"choropleth\"}],\"contourcarpet\":[{\"colorbar\":{\"outlinewidth\":0,\"ticks\":\"\"},\"type\":\"contourcarpet\"}],\"contour\":[{\"colorbar\":{\"outlinewidth\":0,\"ticks\":\"\"},\"colorscale\":[[0.0,\"#0d0887\"],[0.1111111111111111,\"#46039f\"],[0.2222222222222222,\"#7201a8\"],[0.3333333333333333,\"#9c179e\"],[0.4444444444444444,\"#bd3786\"],[0.5555555555555556,\"#d8576b\"],[0.6666666666666666,\"#ed7953\"],[0.7777777777777778,\"#fb9f3a\"],[0.8888888888888888,\"#fdca26\"],[1.0,\"#f0f921\"]],\"type\":\"contour\"}],\"heatmapgl\":[{\"colorbar\":{\"outlinewidth\":0,\"ticks\":\"\"},\"colorscale\":[[0.0,\"#0d0887\"],[0.1111111111111111,\"#46039f\"],[0.2222222222222222,\"#7201a8\"],[0.3333333333333333,\"#9c179e\"],[0.4444444444444444,\"#bd3786\"],[0.5555555555555556,\"#d8576b\"],[0.6666666666666666,\"#ed7953\"],[0.7777777777777778,\"#fb9f3a\"],[0.8888888888888888,\"#fdca26\"],[1.0,\"#f0f921\"]],\"type\":\"heatmapgl\"}],\"heatmap\":[{\"colorbar\":{\"outlinewidth\":0,\"ticks\":\"\"},\"colorscale\":[[0.0,\"#0d0887\"],[0.1111111111111111,\"#46039f\"],[0.2222222222222222,\"#7201a8\"],[0.3333333333333333,\"#9c179e\"],[0.4444444444444444,\"#bd3786\"],[0.5555555555555556,\"#d8576b\"],[0.6666666666666666,\"#ed7953\"],[0.7777777777777778,\"#fb9f3a\"],[0.8888888888888888,\"#fdca26\"],[1.0,\"#f0f921\"]],\"type\":\"heatmap\"}],\"histogram2dcontour\":[{\"colorbar\":{\"outlinewidth\":0,\"ticks\":\"\"},\"colorscale\":[[0.0,\"#0d0887\"],[0.1111111111111111,\"#46039f\"],[0.2222222222222222,\"#7201a8\"],[0.3333333333333333,\"#9c179e\"],[0.4444444444444444,\"#bd3786\"],[0.5555555555555556,\"#d8576b\"],[0.6666666666666666,\"#ed7953\"],[0.7777777777777778,\"#fb9f3a\"],[0.8888888888888888,\"#fdca26\"],[1.0,\"#f0f921\"]],\"type\":\"histogram2dcontour\"}],\"histogram2d\":[{\"colorbar\":{\"outlinewidth\":0,\"ticks\":\"\"},\"colorscale\":[[0.0,\"#0d0887\"],[0.1111111111111111,\"#46039f\"],[0.2222222222222222,\"#7201a8\"],[0.3333333333333333,\"#9c179e\"],[0.4444444444444444,\"#bd3786\"],[0.5555555555555556,\"#d8576b\"],[0.6666666666666666,\"#ed7953\"],[0.7777777777777778,\"#fb9f3a\"],[0.8888888888888888,\"#fdca26\"],[1.0,\"#f0f921\"]],\"type\":\"histogram2d\"}],\"histogram\":[{\"marker\":{\"pattern\":{\"fillmode\":\"overlay\",\"size\":10,\"solidity\":0.2}},\"type\":\"histogram\"}],\"mesh3d\":[{\"colorbar\":{\"outlinewidth\":0,\"ticks\":\"\"},\"type\":\"mesh3d\"}],\"parcoords\":[{\"line\":{\"colorbar\":{\"outlinewidth\":0,\"ticks\":\"\"}},\"type\":\"parcoords\"}],\"pie\":[{\"automargin\":true,\"type\":\"pie\"}],\"scatter3d\":[{\"line\":{\"colorbar\":{\"outlinewidth\":0,\"ticks\":\"\"}},\"marker\":{\"colorbar\":{\"outlinewidth\":0,\"ticks\":\"\"}},\"type\":\"scatter3d\"}],\"scattercarpet\":[{\"marker\":{\"colorbar\":{\"outlinewidth\":0,\"ticks\":\"\"}},\"type\":\"scattercarpet\"}],\"scattergeo\":[{\"marker\":{\"colorbar\":{\"outlinewidth\":0,\"ticks\":\"\"}},\"type\":\"scattergeo\"}],\"scattergl\":[{\"marker\":{\"colorbar\":{\"outlinewidth\":0,\"ticks\":\"\"}},\"type\":\"scattergl\"}],\"scattermapbox\":[{\"marker\":{\"colorbar\":{\"outlinewidth\":0,\"ticks\":\"\"}},\"type\":\"scattermapbox\"}],\"scatterpolargl\":[{\"marker\":{\"colorbar\":{\"outlinewidth\":0,\"ticks\":\"\"}},\"type\":\"scatterpolargl\"}],\"scatterpolar\":[{\"marker\":{\"colorbar\":{\"outlinewidth\":0,\"ticks\":\"\"}},\"type\":\"scatterpolar\"}],\"scatter\":[{\"fillpattern\":{\"fillmode\":\"overlay\",\"size\":10,\"solidity\":0.2},\"type\":\"scatter\"}],\"scatterternary\":[{\"marker\":{\"colorbar\":{\"outlinewidth\":0,\"ticks\":\"\"}},\"type\":\"scatterternary\"}],\"surface\":[{\"colorbar\":{\"outlinewidth\":0,\"ticks\":\"\"},\"colorscale\":[[0.0,\"#0d0887\"],[0.1111111111111111,\"#46039f\"],[0.2222222222222222,\"#7201a8\"],[0.3333333333333333,\"#9c179e\"],[0.4444444444444444,\"#bd3786\"],[0.5555555555555556,\"#d8576b\"],[0.6666666666666666,\"#ed7953\"],[0.7777777777777778,\"#fb9f3a\"],[0.8888888888888888,\"#fdca26\"],[1.0,\"#f0f921\"]],\"type\":\"surface\"}],\"table\":[{\"cells\":{\"fill\":{\"color\":\"#EBF0F8\"},\"line\":{\"color\":\"white\"}},\"header\":{\"fill\":{\"color\":\"#C8D4E3\"},\"line\":{\"color\":\"white\"}},\"type\":\"table\"}]},\"layout\":{\"annotationdefaults\":{\"arrowcolor\":\"#2a3f5f\",\"arrowhead\":0,\"arrowwidth\":1},\"autotypenumbers\":\"strict\",\"coloraxis\":{\"colorbar\":{\"outlinewidth\":0,\"ticks\":\"\"}},\"colorscale\":{\"diverging\":[[0,\"#8e0152\"],[0.1,\"#c51b7d\"],[0.2,\"#de77ae\"],[0.3,\"#f1b6da\"],[0.4,\"#fde0ef\"],[0.5,\"#f7f7f7\"],[0.6,\"#e6f5d0\"],[0.7,\"#b8e186\"],[0.8,\"#7fbc41\"],[0.9,\"#4d9221\"],[1,\"#276419\"]],\"sequential\":[[0.0,\"#0d0887\"],[0.1111111111111111,\"#46039f\"],[0.2222222222222222,\"#7201a8\"],[0.3333333333333333,\"#9c179e\"],[0.4444444444444444,\"#bd3786\"],[0.5555555555555556,\"#d8576b\"],[0.6666666666666666,\"#ed7953\"],[0.7777777777777778,\"#fb9f3a\"],[0.8888888888888888,\"#fdca26\"],[1.0,\"#f0f921\"]],\"sequentialminus\":[[0.0,\"#0d0887\"],[0.1111111111111111,\"#46039f\"],[0.2222222222222222,\"#7201a8\"],[0.3333333333333333,\"#9c179e\"],[0.4444444444444444,\"#bd3786\"],[0.5555555555555556,\"#d8576b\"],[0.6666666666666666,\"#ed7953\"],[0.7777777777777778,\"#fb9f3a\"],[0.8888888888888888,\"#fdca26\"],[1.0,\"#f0f921\"]]},\"colorway\":[\"#636efa\",\"#EF553B\",\"#00cc96\",\"#ab63fa\",\"#FFA15A\",\"#19d3f3\",\"#FF6692\",\"#B6E880\",\"#FF97FF\",\"#FECB52\"],\"font\":{\"color\":\"#2a3f5f\"},\"geo\":{\"bgcolor\":\"white\",\"lakecolor\":\"white\",\"landcolor\":\"#E5ECF6\",\"showlakes\":true,\"showland\":true,\"subunitcolor\":\"white\"},\"hoverlabel\":{\"align\":\"left\"},\"hovermode\":\"closest\",\"mapbox\":{\"style\":\"light\"},\"paper_bgcolor\":\"white\",\"plot_bgcolor\":\"#E5ECF6\",\"polar\":{\"angularaxis\":{\"gridcolor\":\"white\",\"linecolor\":\"white\",\"ticks\":\"\"},\"bgcolor\":\"#E5ECF6\",\"radialaxis\":{\"gridcolor\":\"white\",\"linecolor\":\"white\",\"ticks\":\"\"}},\"scene\":{\"xaxis\":{\"backgroundcolor\":\"#E5ECF6\",\"gridcolor\":\"white\",\"gridwidth\":2,\"linecolor\":\"white\",\"showbackground\":true,\"ticks\":\"\",\"zerolinecolor\":\"white\"},\"yaxis\":{\"backgroundcolor\":\"#E5ECF6\",\"gridcolor\":\"white\",\"gridwidth\":2,\"linecolor\":\"white\",\"showbackground\":true,\"ticks\":\"\",\"zerolinecolor\":\"white\"},\"zaxis\":{\"backgroundcolor\":\"#E5ECF6\",\"gridcolor\":\"white\",\"gridwidth\":2,\"linecolor\":\"white\",\"showbackground\":true,\"ticks\":\"\",\"zerolinecolor\":\"white\"}},\"shapedefaults\":{\"line\":{\"color\":\"#2a3f5f\"}},\"ternary\":{\"aaxis\":{\"gridcolor\":\"white\",\"linecolor\":\"white\",\"ticks\":\"\"},\"baxis\":{\"gridcolor\":\"white\",\"linecolor\":\"white\",\"ticks\":\"\"},\"bgcolor\":\"#E5ECF6\",\"caxis\":{\"gridcolor\":\"white\",\"linecolor\":\"white\",\"ticks\":\"\"}},\"title\":{\"x\":0.05},\"xaxis\":{\"automargin\":true,\"gridcolor\":\"white\",\"linecolor\":\"white\",\"ticks\":\"\",\"title\":{\"standoff\":15},\"zerolinecolor\":\"white\",\"zerolinewidth\":2},\"yaxis\":{\"automargin\":true,\"gridcolor\":\"white\",\"linecolor\":\"white\",\"ticks\":\"\",\"title\":{\"standoff\":15},\"zerolinecolor\":\"white\",\"zerolinewidth\":2}}}},                        {\"responsive\": true}                    ).then(function(){\n",
              "                            \n",
              "var gd = document.getElementById('9b847cd4-9e18-4d50-a987-47334f9868d8');\n",
              "var x = new MutationObserver(function (mutations, observer) {{\n",
              "        var display = window.getComputedStyle(gd).display;\n",
              "        if (!display || display === 'none') {{\n",
              "            console.log([gd, 'removed!']);\n",
              "            Plotly.purge(gd);\n",
              "            observer.disconnect();\n",
              "        }}\n",
              "}});\n",
              "\n",
              "// Listen for the removal of the full notebook cells\n",
              "var notebookContainer = gd.closest('#notebook-container');\n",
              "if (notebookContainer) {{\n",
              "    x.observe(notebookContainer, {childList: true});\n",
              "}}\n",
              "\n",
              "// Listen for the clearing of the current output cell\n",
              "var outputEl = gd.closest('.output');\n",
              "if (outputEl) {{\n",
              "    x.observe(outputEl, {childList: true});\n",
              "}}\n",
              "\n",
              "                        })                };                            </script>        </div>\n",
              "</body>\n",
              "</html>"
            ]
          },
          "metadata": {}
        }
      ],
      "source": [
        "iplot([trace])"
      ]
    },
    {
      "cell_type": "code",
      "execution_count": null,
      "id": "6b00d01a",
      "metadata": {
        "id": "6b00d01a"
      },
      "outputs": [],
      "source": []
    }
  ],
  "metadata": {
    "kernelspec": {
      "display_name": "Python 3",
      "name": "python3"
    },
    "language_info": {
      "codemirror_mode": {
        "name": "ipython",
        "version": 3
      },
      "file_extension": ".py",
      "mimetype": "text/x-python",
      "name": "python",
      "nbconvert_exporter": "python",
      "pygments_lexer": "ipython3",
      "version": "3.11.7"
    },
    "colab": {
      "provenance": [],
      "gpuType": "T4"
    },
    "accelerator": "GPU"
  },
  "nbformat": 4,
  "nbformat_minor": 5
}